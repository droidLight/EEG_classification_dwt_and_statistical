{
  "nbformat": 4,
  "nbformat_minor": 0,
  "metadata": {
    "colab": {
      "name": "EEG_Statistical_Model.ipynb",
      "provenance": [],
      "collapsed_sections": []
    },
    "kernelspec": {
      "display_name": "Python 3",
      "name": "python3"
    }
  },
  "cells": [
    {
      "cell_type": "code",
      "metadata": {
        "colab": {
          "base_uri": "https://localhost:8080/"
        },
        "id": "yHzUhxOsbXVo",
        "outputId": "22b048d0-2ba2-41a1-f818-40e22dc3fa6f"
      },
      "source": [
        "!pip install pyedflib"
      ],
      "execution_count": null,
      "outputs": [
        {
          "output_type": "stream",
          "text": [
            "Collecting pyedflib\n",
            "\u001b[?25l  Downloading https://files.pythonhosted.org/packages/4e/ef/3222490aea1003256150d2a5b3daebdc3e7e53d3766ade4640d182093b26/pyEDFlib-0.1.20.tar.gz (1.2MB)\n",
            "\u001b[K     |████████████████████████████████| 1.2MB 6.6MB/s \n",
            "\u001b[?25h  Installing build dependencies ... \u001b[?25l\u001b[?25hdone\n",
            "  Getting requirements to build wheel ... \u001b[?25l\u001b[?25hdone\n",
            "    Preparing wheel metadata ... \u001b[?25l\u001b[?25hdone\n",
            "Requirement already satisfied: numpy>=1.9.1 in /usr/local/lib/python3.6/dist-packages (from pyedflib) (1.19.5)\n",
            "Building wheels for collected packages: pyedflib\n",
            "  Building wheel for pyedflib (PEP 517) ... \u001b[?25l\u001b[?25hdone\n",
            "  Created wheel for pyedflib: filename=pyEDFlib-0.1.20-cp36-cp36m-linux_x86_64.whl size=928459 sha256=0861d8e7bd6f430632dab740493050fda1134e58c3c09cb9a6ac63d3cde43843\n",
            "  Stored in directory: /root/.cache/pip/wheels/0d/be/b5/574f8b99ad9ac2ecf78e0c5271040b5aff999febfe655b97a4\n",
            "Successfully built pyedflib\n",
            "Installing collected packages: pyedflib\n",
            "Successfully installed pyedflib-0.1.20\n"
          ],
          "name": "stdout"
        }
      ]
    },
    {
      "cell_type": "code",
      "metadata": {
        "id": "uGK3tcNrbEw8"
      },
      "source": [
        "import numpy as np\n",
        "import pyedflib as edf\n",
        "import os\n",
        "from matplotlib import pyplot as plt\n",
        "from sklearn.utils import shuffle\n",
        "from scipy.signal import butter, lfilter, iirnotch, filtfilt, sosfilt\n",
        "import subprocess as sp\n",
        "import math\n",
        "import time"
      ],
      "execution_count": null,
      "outputs": []
    },
    {
      "cell_type": "code",
      "metadata": {
        "id": "QD8hJzHCZBoT"
      },
      "source": [
        "from google.colab import drive\n",
        "drive.mount(\"/content/drive\")"
      ],
      "execution_count": null,
      "outputs": []
    },
    {
      "cell_type": "code",
      "metadata": {
        "id": "yLp8lQ5YEegf"
      },
      "source": [
        "DOWNLOAD_PATH = \"/content/downloaded/\"\n",
        "\n",
        "if not os.path.exists(DOWNLOAD_PATH):\n",
        "  os.mkdir(DOWNLOAD_PATH)"
      ],
      "execution_count": null,
      "outputs": []
    },
    {
      "cell_type": "code",
      "metadata": {
        "id": "3f3hP6OSbuaf"
      },
      "source": [
        "#for downloading files\n",
        "def download_files(patient_num, file_num_list):\n",
        "  for file_num in file_num_list:\n",
        "    file_name = f'chb{str(patient_num).zfill(2)}_{str(file_num).zfill(2)}.edf'\n",
        "    url = f'https://physionet.org/static/published-projects/chbmit/1.0.0/chb{str(patient_num).zfill(2)}/'+file_name\n",
        "    response_code = sp.call(['wget', url])\n",
        "    if(response_code != 0):\n",
        "      print(file_name+\"  Not found\")\n",
        "    dest_path = DOWNLOAD_PATH + file_name\n",
        "    response_code = sp.call(['mv', file_name, dest_path])\n",
        "    if(response_code == 0):\n",
        "      print(\"Downloaded \"+file_name)"
      ],
      "execution_count": null,
      "outputs": []
    },
    {
      "cell_type": "code",
      "metadata": {
        "id": "JohK4mfncBeQ"
      },
      "source": [
        "def calculate_energy(segment):\n",
        "  sigma = 1\n",
        "  segment = np.square(segment)\n",
        "  sum = 0  \n",
        "  for d in segment:  \n",
        "    try:\n",
        "      e_energy = math.exp(- 1 * (d / sigma))                  \n",
        "    except Exception as e:\n",
        "      print(\"Warning, \"+e)      \n",
        "      e_energy = 0\n",
        "    \n",
        "    sum += e_energy\n",
        "\n",
        "  return sum"
      ],
      "execution_count": null,
      "outputs": []
    },
    {
      "cell_type": "code",
      "metadata": {
        "id": "iINF2GZ8olld"
      },
      "source": [
        "def filter_signal(data, level = \"none\"):\n",
        "  #removing 50 and 60 HZ  \n",
        "  b, a = iirnotch(60, 20, 256)\n",
        "  noise_removed = lfilter(b, a, data)\n",
        "\n",
        "  b, a = iirnotch(50, 16, 256)\n",
        "  noise_removed = lfilter(b, a, noise_removed)\n",
        "  low, high = None, None\n",
        "\n",
        "  if level == \"delta\":\n",
        "    low = 0.5 / (0.5 * 256)\n",
        "    high = 4 / (0.5 * 256)\n",
        "  elif level == \"theta\":\n",
        "    low = 4 / (0.5 * 256)\n",
        "    high = 7 / (0.5 * 256)\n",
        "  elif level == \"alpha\":\n",
        "    low = 8 / (0.5 * 256)\n",
        "    high = 12 / (0.5 * 256)\n",
        "  elif level == \"sigma\":\n",
        "    low = 12 / (0.5 * 256)\n",
        "    high = 16 / (0.5 * 256)\n",
        "  elif level == \"beta\":\n",
        "    low = 16 / (0.5 * 256)\n",
        "    high = 30 / (0.5 * 256)\n",
        "  else:\n",
        "    low = 0.5 / (0.5 * 256)\n",
        "    high = 40 / (0.5 * 256)\n",
        "  \n",
        "  sos = butter(6, [low, high], btype = \"bandpass\", output = 'sos')\n",
        "  filtered = sosfilt(sos, noise_removed)\n",
        "  return filtered"
      ],
      "execution_count": null,
      "outputs": []
    },
    {
      "cell_type": "code",
      "metadata": {
        "id": "b9zWGm-grTWn"
      },
      "source": [
        "def get_windows(data, window_size):\n",
        "  result = list()\n",
        "  window_size = window_size * 256\n",
        "  inc = int(window_size / 5)\n",
        "  for index in range(0, data.shape[0] - window_size, inc):\n",
        "    sample = data[index : index + window_size]    \n",
        "    energy = calculate_energy(sample)\n",
        "    result.append(energy)\n",
        "  \n",
        "  return result, np.median(result)"
      ],
      "execution_count": null,
      "outputs": []
    },
    {
      "cell_type": "code",
      "metadata": {
        "id": "C_UtSmQ2XYI5"
      },
      "source": [
        "#new\n",
        "def process_data_2(data, channel_num, preictal_interval, window_size):\n",
        "  #take data 10 mins before start of seizure\n",
        "  gap = 10 * 60 * 256\n",
        "  #list of all energy values computed on each window segment across all data\n",
        "  pre_data_list, inter_data_list = list(), list()\n",
        "  #list of average energy in data\n",
        "  avg_pre_list, avg_inter_list = list(), list()\n",
        "\n",
        "  for item in data:\n",
        "    files = item[0]\n",
        "    start_time = item[1] + gap\n",
        "\n",
        "    sequence = None\n",
        "\n",
        "    if len(files) == 3:\n",
        "      temp_inter_1 = edf.EdfReader(DOWNLOAD_PATH+files[0]).readSignal(channel_num)\n",
        "      temp_inter_2 = edf.EdfReader(DOWNLOAD_PATH+files[1]).readSignal(channel_num)\n",
        "      temp_pre = edf.EdfReader(DOWNLOAD_PATH+files[2]).readSignal(channel_num)[0: start_time*256]\n",
        "      sequence = np.concatenate((temp_inter_1, temp_inter_2, temp_pre))\n",
        "    else:      \n",
        "      temp_inter = edf.EdfReader(DOWNLOAD_PATH+files[0]).readSignal(channel_num)\n",
        "      temp_pre = edf.EdfReader(DOWNLOAD_PATH+files[1]).readSignal(channel_num)[0: start_time*256]\n",
        "      sequence = np.concatenate((temp_inter, temp_pre))\n",
        "    \n",
        "    sequence = filter_signal(sequence)\n",
        "    signal_length = sequence.shape[0]\n",
        "    \n",
        "    interval = preictal_interval * 60 * 256\n",
        "    pre_start = signal_length - interval\n",
        "    inter_start = pre_start - interval\n",
        "\n",
        "    interictal, preictal = sequence[inter_start : pre_start], sequence[pre_start:]\n",
        "    \n",
        "    preictal_energy, avg_preictal_energy = get_windows(preictal, window_size)\n",
        "    interictal_energy, avg_interictal_energy = get_windows(interictal, window_size)\n",
        "\n",
        "    pre_data_list.extend(preictal_energy)\n",
        "    inter_data_list.extend(interictal_energy)\n",
        "\n",
        "    avg_pre_list.append(avg_preictal_energy)\n",
        "    avg_inter_list.append(avg_interictal_energy)\n",
        "  \n",
        "  return np.array(pre_data_list), np.array(avg_pre_list), np.array(inter_data_list), np.array(avg_inter_list)"
      ],
      "execution_count": null,
      "outputs": []
    },
    {
      "cell_type": "code",
      "metadata": {
        "id": "X_2ATHEguymy"
      },
      "source": [
        "def save_plot(patient_num, files, channel_num, pre_interval, window_size):\n",
        "  pre, avg_pre_list, inter, avg_inter_list = process_data_2(files, channel_num, pre_interval, window_size)\n",
        "  avg_pre = np.average(avg_pre_list)\n",
        "  avg_inter = np.average(avg_inter_list)\n",
        "\n",
        "  plt.figure(figsize = (15, 5))\n",
        "\n",
        "  samples = np.arange(1, pre.shape[0]+1)\n",
        "  \n",
        "  plt.scatter(samples, pre, color = 'orange', s = 100)\n",
        "  plt.scatter(samples, inter, color = 'green', s = 100)\n",
        "\n",
        "  plt.scatter(samples.shape[0], avg_pre, color = 'red', s = 200)\n",
        "  plt.scatter(samples.shape[0], avg_inter, color = 'blue', s = 200)\n",
        "\n",
        "  plt.legend([\"preictal\", \"interictal\", \"Avg energy preictal\", \"Avg energy interictal\"], loc = \"upper right\")\n",
        "  plt.title(\"Exponentation energy - p\"+str(patient_num))\n",
        "\n",
        "  plot_file = f\"trial_plot_file_{patient_num}.png\"\n",
        "  plt.savefig(RESULT_PATH + plot_file, bbox_inches = \"tight\")\n",
        "  plt.clf()\n",
        "  samples = np.arange(1, avg_pre_list.shape[0]+1)\n",
        "\n",
        "  plt.scatter(samples, avg_pre_list, color = 'orange')\n",
        "  plt.scatter(samples, avg_inter_list, color = 'green')\n",
        "\n",
        "  plt.scatter(samples.shape[0]+1, avg_pre, color = 'red', s = 200)\n",
        "  plt.scatter(samples.shape[0]+1, avg_inter, color = 'blue', s = 200)\n",
        "\n",
        "  plt.legend([\"Avg pre per file\", \"Avg inter per file\", \"Avg energy preictal\", \"Avg energy interictal\"], loc = \"upper right\")\n",
        "  plt.title(\"Exponentation energy - p\"+str(patient_num))\n",
        "  plot_file = f\"trial_avg_plot_{patient_num}.png\"\n",
        "  plt.savefig(RESULT_PATH + plot_file, bbox_inches = \"tight\")\n",
        "\n",
        "  plt.show()"
      ],
      "execution_count": null,
      "outputs": []
    },
    {
      "cell_type": "code",
      "metadata": {
        "id": "D0faPSGNgSVd"
      },
      "source": [
        "#log file\n",
        "def save_log_file(patient_num, channel_num, preictal_interval, window_size, avg_pre, avg_inter, min_window_size, min_channel_num, min_preictal_interval):\n",
        "  file_name = f\"trail_relaxed_log_file_{patient_num}.txt\"\n",
        "\n",
        "  with open(RESULT_PATH + file_name, \"w\") as f:\n",
        "    print(f\"PATIENT: {patient_num}\\nCHANNEL: {channel_num}\\nPREICTAL_INTERVAL: {preictal_interval}\\nWINDOW_SIZE: {window_size}\\nAVG_PRE_ENERGY: {avg_pre}\\nAVG_INTER_ENERY: {avg_inter}\\nMIN CHANNEL: {min_channel_num}\\nMin WINDOW_SIZE: {min_window_size}\\nMIN_PREICTAL_INTERVAL: {min_preictal_interval}\", file = f)"
      ],
      "execution_count": null,
      "outputs": []
    },
    {
      "cell_type": "code",
      "metadata": {
        "id": "lsOQBVNoijSZ"
      },
      "source": [
        "def get_best(patient_num, files):\n",
        "  start = time.time()\n",
        "  max_diff, best_channel_num, best_window_size, best_pre_interval = None, None, None, None\n",
        "  min_diff, min_channel_num, min_window_size, min_pre_interval = None, None, None, None\n",
        "  best_avg_pre, best_avg_inter = None, None\n",
        "\n",
        "  preictal_intervals = [10, 15, 20, 25, 30]#in mins\n",
        "  window_sizes = [10, 15] #in secs\n",
        "  channel_list = np.arange(0, 23)\n",
        "  \n",
        "  max_diff = None\n",
        "  for pre_interval in preictal_intervals:\n",
        "    for window_size in window_sizes:\n",
        "      for channel in channel_list:        \n",
        "        avg_pre_list, pre, avg_inter_list, inter = process_data_2(files, channel, pre_interval, window_size)\n",
        "        avg_pre, avg_inter = np.average(avg_pre_list), np.average(avg_inter_list)\n",
        "\n",
        "        diff = abs(avg_pre - avg_inter)\n",
        "        if max_diff == None or max_diff < diff:\n",
        "          max_diff = diff\n",
        "          best_channel_num = channel\n",
        "          best_pre_interval = pre_interval\n",
        "          best_window_size = window_size\n",
        "          best_avg_pre = avg_pre\n",
        "          best_avg_inter = avg_inter\n",
        "        \n",
        "        if min_diff == None or min_diff > diff:\n",
        "          min_diff = diff\n",
        "          min_channel_num = channel\n",
        "          min_pre_interval = pre_interval\n",
        "          min_window_size = window_size\n",
        "          \n",
        "\n",
        "  print(f\"Max diff: {max_diff}\\tChannel Num: {best_channel_num}\\tPreictal Interval: {best_pre_interval}\\tWindow Size: {best_window_size}\")\n",
        "  print(f\"Min diff: {min_diff}\\tChannel Num: {min_channel_num}\\tPreictal Interval: {min_pre_interval}\\tWindow Size: {min_window_size}\")\n",
        "  print(f\"Running time: {time.time() - start} seconds\")\n",
        "  #saving plot and log file\n",
        "  save_plot(patient_num, files, best_channel_num, best_pre_interval, best_window_size)\n",
        "  print(\"Plot file saved\")\n",
        "  save_log_file(patient_num, best_channel_num, best_pre_interval, best_window_size, best_avg_pre, best_avg_inter, min_window_size, min_channel_num, min_pre_interval)  \n",
        "  print(\"Log file saved\")"
      ],
      "execution_count": null,
      "outputs": []
    },
    {
      "cell_type": "markdown",
      "metadata": {
        "id": "1aJ-jX-qmTt0"
      },
      "source": [
        "##Get data below"
      ]
    },
    {
      "cell_type": "code",
      "metadata": {
        "id": "P7HBnfHLG2lP"
      },
      "source": [
        "patient_num = 1\n",
        "RESULT_PATH = f\"/content/drive/My Drive/chb_dataset/stat_approach/{patient_num}/\"\n",
        "\n",
        "if not os.path.exists(RESULT_PATH):\n",
        "  os.mkdir(RESULT_PATH)\n",
        "\n",
        "get_best(patient_num, files)"
      ],
      "execution_count": null,
      "outputs": []
    },
    {
      "cell_type": "markdown",
      "metadata": {
        "id": "4xfFr7qm_5aG"
      },
      "source": [
        "##download data"
      ]
    },
    {
      "cell_type": "code",
      "metadata": {
        "id": "26s6-uy_u2K5"
      },
      "source": [
        "#patient 1\n",
        "'''\n",
        "file_nums = [3, 4, 15, 1, 24, 34]\n",
        "files = [(\"chb01_03.edf\", 2996),\n",
        "         (\"chb01_04.edf\", 1467),\n",
        "         (\"chb01_15.edf\", 1732),\n",
        "         (\"chb01_01.edf\", 0),\n",
        "         (\"chb01_24.edf\", 0),\n",
        "         (\"chb01_34.edf\", 0)]\n",
        "\n",
        "download_files(1, file_nums)\n",
        "'''\n",
        "#file_nums = [2, 3, 14, 15, 16, 17, 18, 20, 21, 25, 26]\n",
        "file_nums = [2, 3, 14, 15, 16, 17, 18, 20, 21, 25, 26, 1, 13, 24]\n",
        "files = [\n",
        "         ([\"chb01_01.edf\", \"chb01_02.edf\", \"chb01_03.edf\"], 2996),\n",
        "         ([\"chb01_13.edf\", \"chb01_14.edf\", \"chb01_15.edf\"], 1732),\n",
        "         ([\"chb01_14.edf\", \"chb01_15.edf\", \"chb01_16.edf\"], 1015),\n",
        "         ([\"chb01_16.edf\", \"chb01_17.edf\", \"chb01_18.edf\"], 1720),        \n",
        "         ([\"chb01_24.edf\", \"chb01_25.edf\", \"chb01_26.edf\"], 1862)\n",
        "]\n",
        "download_files(1, file_nums)"
      ],
      "execution_count": null,
      "outputs": []
    },
    {
      "cell_type": "code",
      "metadata": {
        "id": "Uy2W70NSSdId"
      },
      "source": [
        "#patient 2\n",
        "#file_nums = [15, 16, 18, 19]\n",
        "file_nums = [15, 16, 18, 19, 14, 17]\n",
        "sp.call(['wget', 'https://physionet.org/static/published-projects/chbmit/1.0.0/chb02/chb02_16+.edf'])\n",
        "sp.call(['mv', 'chb02_16+.edf', DOWNLOAD_PATH + 'chb02_16+.edf'])\n",
        "files = [\n",
        "         ([\"chb02_14.edf\", \"chb02_15.edf\", \"chb02_16.edf\"], 130),\n",
        "         ([\"chb02_15.edf\", \"chb02_16.edf\", \"chb02_16+.edf\"], 2972),\n",
        "         ([\"chb02_17.edf\", \"chb02_18.edf\", \"chb02_19.edf\"], 3369)         \n",
        "]\n",
        "download_files(2, file_nums)"
      ],
      "execution_count": null,
      "outputs": []
    },
    {
      "cell_type": "code",
      "metadata": {
        "id": "ilfgg0t7ABhT"
      },
      "source": [
        "#patient 3\n",
        "'''\n",
        "file_nums = [4, 34, 35, 36, 19, 23, 31, 25]\n",
        "files = [(\"chb03_04.edf\", 2162),\n",
        "         (\"chb03_34.edf\", 1982),\n",
        "         (\"chb03_35.edf\", 2592),\n",
        "         (\"chb03_36.edf\", 1725),\n",
        "         (\"chb03_19.edf\", 0),\n",
        "         (\"chb03_23.edf\", 0),\n",
        "         (\"chb03_31.edf\", 0),\n",
        "         (\"chb03_25.edf\", 0)]\n",
        "\n",
        "download_files(3, file_nums)\n",
        "'''\n",
        "#file_nums = [1, 2, 3, 4, 33, 34, 35, 36]\n",
        "file_nums = [1, 2, 3, 4, 33, 34, 35, 36, 38, 32]\n",
        "files = [\n",
        "         ([\"chb03_38.edf\", \"chb03_01.edf\", \"chb03_02.edf\"], 731),\n",
        "         ([\"chb03_01.edf\", \"chb03_02.edf\", \"chb03_03.edf\"], 432),\n",
        "         ([\"chb03_02.edf\", \"chb03_03.edf\", \"chb03_04.edf\"], 2162),\n",
        "         ([\"chb03_32.edf\", \"chb03_33.edf\", \"chb03_34.edf\"], 1982),\n",
        "         ([\"chb03_34.edf\", \"chb03_35.edf\", \"chb03_36.edf\"], 1725),         \n",
        "]\n",
        "download_files(3, file_nums)"
      ],
      "execution_count": null,
      "outputs": []
    },
    {
      "cell_type": "code",
      "metadata": {
        "id": "ArWawIOwmXlB"
      },
      "source": [
        "#patient 4\n",
        "'''\n",
        "file_nums = [5, 8, 28, 43, 19, 1]\n",
        "files = [(\"chb04_05.edf\", 7804),\n",
        "         (\"chb04_08.edf\", 6446),\n",
        "         (\"chb04_28.edf\", 1679),         \n",
        "         (\"chb04_43.edf\", 0),\n",
        "         (\"chb04_19.edf\", 0),\n",
        "         (\"chb04_01.edf\", 0)\n",
        "         ]\n",
        "download_files(4, file_nums)\n",
        "'''\n",
        "#file_nums = [4, 5, 7, 8, 27, 28]\n",
        "file_nums = [4, 5, 7, 8, 27, 28, 3, 6, 26]\n",
        "files = [\n",
        "         ([\"chb04_03.edf\", \"chb04_04.edf\", \"chb04_05.edf\"],7804),\n",
        "         ([\"chb04_06.edf\", \"chb04_07.edf\", \"chb04_08.edf\"], 6446),\n",
        "         ([\"chb04_26.edf\", \"chb04_27.edf\", \"chb04_28.edf\"], 1679),\n",
        "         ([\"chb04_26.edf\", \"chb04_27.edf\", \"chb04_28.edf\"], 3782),         \n",
        "]\n",
        "download_files(4, file_nums)"
      ],
      "execution_count": null,
      "outputs": []
    },
    {
      "cell_type": "code",
      "metadata": {
        "id": "i_8RuAQBFh65"
      },
      "source": [
        "#patient 5\n",
        "'''\n",
        "file_nums = [13, 16, 17, 22, 1, 2, 3, 10]\n",
        "files = [\n",
        "         (\"chb05_13.edf\", 1086),\n",
        "         (\"chb05_16.edf\", 2317),\n",
        "         (\"chb05_17.edf\", 2451),\n",
        "         (\"chb05_22.edf\", 2348),\n",
        "         (\"chb05_01.edf\", 0),         \n",
        "         (\"chb05_02.edf\", 0),\n",
        "         (\"chb05_03.edf\", 0),\n",
        "         (\"chb05_10.edf\", 0)\n",
        "        ]\n",
        "download_files(5, file_nums)\n",
        "'''\n",
        "file_nums = [5,6, 12, 13, 15, 16, 21, 22, 4, 11, 14, 20]\n",
        "\n",
        "files = [([\"chb05_04.edf\", \"chb05_05.edf\", \"chb05_06.edf\"], 417),\n",
        "         ([\"chb05_11.edf\", \"chb05_12.edf\", \"chb05_13.edf\"], 1086),\n",
        "         ([\"chb05_14.edf\", \"chb05_15.edf\", \"chb05_16.edf\"], 2317),\n",
        "         ([\"chb05_20.edf\", \"chb05_21.edf\", \"chb05_22.edf\"], 2348)         \n",
        "]\n",
        "download_files(5, file_nums)"
      ],
      "execution_count": null,
      "outputs": []
    },
    {
      "cell_type": "code",
      "metadata": {
        "id": "IiZQ8zV8-1iu"
      },
      "source": [
        "#patient 6\n",
        "'''\n",
        "file_nums = [1, 3, 4, 7, 8, 10, 12]\n",
        "files = [(\"chb06_01.edf\", 1724),\n",
        "         (\"chb06_01.edf\", 7461),         \n",
        "         (\"chb06_04.edf\", 6211),         \n",
        "         (\"chb06_10.edf\", 10833),\n",
        "         (\"chb06_08.edf\", 0),\n",
        "         (\"chb06_03.edf\", 0),\n",
        "         (\"chb06_12.edf\", 0),\n",
        "         (\"chb06_07.edf\", 0)]\n",
        "download_files(6, file_nums)\n",
        "'''\n",
        "#file_nums = [3, 4, 9, 12, 13, 18, 24]\n",
        "file_nums = [3, 4, 9, 12, 13, 18, 24, 2, 10, 17]\n",
        "files = [\n",
        "         ([\"chb06_02.edf\", \"chb06_03.edf\", \"chb06_04.edf\"], 327),\n",
        "         ([\"chb06_02.edf\", \"chb06_03.edf\", \"chb06_04.edf\"], 6211),\n",
        "         ([\"chb06_02.edf\", \"chb06_03.edf\", \"chb06_09.edf\"], 12500),\n",
        "         ([\"chb06_10.edf\", \"chb06_12.edf\", \"chb06_13.edf\"], 506),\n",
        "         ([\"chb06_17.edf\", \"chb06_03.edf\", \"chb06_18.edf\"], 7799),\n",
        "         ([\"chb06_17.edf\", \"chb06_03.edf\", \"chb06_24.edf\"], 9387),\n",
        "]\n",
        "download_files(6, file_nums)"
      ],
      "execution_count": null,
      "outputs": []
    },
    {
      "cell_type": "code",
      "metadata": {
        "id": "dr6_KrEgFjYO"
      },
      "source": [
        "#patient 7\n",
        "'''\n",
        "file_nums = [12, 13, 19, 1, 9, 17]\n",
        "files = [(\"chb07_12.edf\", 4920),\n",
        "         (\"chb07_13.edf\", 3285),\n",
        "         (\"chb07_19.edf\", 13688),\n",
        "         (\"chb07_01.edf\", 0),\n",
        "         (\"chb07_09.edf\", 0),\n",
        "         (\"chb07_17.edf\", 0)]\n",
        "\n",
        "download_files(7, file_nums)\n",
        "'''\n",
        "#file_nums = [11, 12, 13, 19]\n",
        "file_nums = [11, 12, 13, 19, 10]\n",
        "files = [\n",
        "         ([\"chb07_10.edf\", \"chb07_11.edf\", \"chb07_12.edf\"], 4920),\n",
        "         ([\"chb07_11.edf\", \"chb07_12.edf\", \"chb07_13.edf\"], 3285),\n",
        "         ([\"chb07_12.edf\", \"chb07_13.edf\", \"chb07_19.edf\"], 13688)\n",
        "]\n",
        "download_files(7, file_nums)"
      ],
      "execution_count": null,
      "outputs": []
    },
    {
      "cell_type": "code",
      "metadata": {
        "id": "09Zr2-5hZhz_"
      },
      "source": [
        "#patient 8\n",
        "'''\n",
        "file_nums = [2, 3, 5, 10, 11, 12]\n",
        "files = [(\"chb08_02.edf\", 2670),\n",
        "         (\"chb08_05.edf\", 2856),\n",
        "         (\"chb08_11.edf\", 2988),\n",
        "         (\"chb08_03.edf\", 0),\n",
        "         (\"chb08_10.edf\", 0),\n",
        "         (\"chb08_12.edf\", 0)]\n",
        "\n",
        "download_files(8, file_nums)\n",
        "'''\n",
        "#file_nums = [4, 5, 10, 11, 12, 13, 20, 21]\n",
        "file_nums = [4, 5, 10, 11, 12, 13, 20, 21, 3, 9, 19]\n",
        "files = [\n",
        "         ([\"chb08_03.edf\", \"chb08_04.edf\", \"chb08_05.edf\"], 2856),\n",
        "         ([\"chb08_04.edf\", \"chb08_10.edf\", \"chb08_11.edf\"], 2988),\n",
        "         ([\"chb08_10.edf\", \"chb08_12.edf\", \"chb08_13.edf\"], 2417),\n",
        "         ([\"chb08_19.edf\", \"chb08_20.edf\", \"chb08_21.edf\"], 2083),         \n",
        "]\n",
        "download_files(8, file_nums)"
      ],
      "execution_count": null,
      "outputs": []
    },
    {
      "cell_type": "code",
      "metadata": {
        "id": "YZAsQrrHLFJo"
      },
      "source": [
        "#patient 9\n",
        "'''\n",
        "file_nums = [5, 6, 8, 10, 18, 19]\n",
        "files = [\n",
        "         (\"chb09_05.edf\", 0),\n",
        "         (\"chb09_18.edf\", 0),\n",
        "         (\"chb09_10.edf\", 0),\n",
        "         (\"chb09_18.edf\", 0),\n",
        "         (\"chb09_06.edf\", 12231),\n",
        "         (\"chb09_08.edf\", 2951),\n",
        "         (\"chb09_08.edf\", 9196),\n",
        "         (\"chb09_19.edf\", 5299)\n",
        "]\n",
        "\n",
        "download_files(9, file_nums)\n",
        "'''\n",
        "#file_nums = [5, 6, 7, 8, 18, 19]\n",
        "file_nums = [5, 6, 7, 8, 18, 19, 4, 17]\n",
        "files = [\n",
        "         ([\"chb09_04.edf\", \"chb09_05.edf\", \"chb09_06.edf\"], 12231),\n",
        "         ([\"chb09_05.edf\", \"chb09_07.edf\", \"chb09_08.edf\"], 2951),\n",
        "         ([\"chb09_05.edf\", \"chb09_07.edf\", \"chb09_08.edf\"], 9196),\n",
        "         ([\"chb09_17.edf\", \"chb09_18.edf\", \"chb09_19.edf\"], 5299)\n",
        "]\n",
        "download_files(9, file_nums)"
      ],
      "execution_count": null,
      "outputs": []
    },
    {
      "cell_type": "code",
      "metadata": {
        "id": "b8d2pKWVcoaw"
      },
      "source": [
        "#patient 10\n",
        "'''\n",
        "file_nums = [12, 20, 27, 30, 8, 19, 2, 28]\n",
        "files = [(\"chb10_12.edf\", 6313),\n",
        "         (\"chb10_20.edf\", 6888),\n",
        "         (\"chb10_27.edf\", 2381),\n",
        "         (\"chb10_30.edf\", 3021),\n",
        "         (\"chb10_08.edf\", 0),\n",
        "         (\"chb10_19.edf\", 0),\n",
        "         (\"chb10_02.edf\", 0),\n",
        "         (\"chb10_28.edf\", 0)]\n",
        "\n",
        "download_files(10, file_nums)\n",
        "'''\n",
        "file_nums = [8, 12, 19, 20, 22, 27, 28, 30, 31, 38, 89, 7, 18, 21]\n",
        "files = [\n",
        "         ([\"chb10_07.edf\", \"chb10_08.edf\", \"chb10_12.edf\"], 6313),\n",
        "         ([\"chb10_18.edf\", \"chb10_19.edf\", \"chb10_20.edf\"], 6888),\n",
        "         ([\"chb10_21.edf\", \"chb10_22.edf\", \"chb10_27.edf\"], 2382),\n",
        "         ([\"chb10_27.edf\", \"chb10_28.edf\", \"chb10_30.edf\"], 3021),\n",
        "         ([\"chb10_28.edf\", \"chb10_30.edf\", \"chb10_31.edf\"], 3801),\n",
        "         ([\"chb10_31.edf\", \"chb10_31.edf\", \"chb10_38.edf\"], 4618),\n",
        "         ([\"chb10_31.edf\", \"chb10_38.edf\", \"chb10_89.edf\"], 1383)\n",
        "]\n",
        "download_files(10, file_nums)"
      ],
      "execution_count": null,
      "outputs": []
    },
    {
      "cell_type": "code",
      "metadata": {
        "id": "UFhIO6Y7glv2"
      },
      "source": [
        "#patient 11\n",
        "'''\n",
        "file_nums = [92, 99, 15, 10]\n",
        "files = [(\"chb11_92.edf\", 2695),\n",
        "         (\"chb11_99.edf\", 1454),\n",
        "         (\"chb11_15.edf\", 0),\n",
        "         (\"chb11_10.edf\", 0)]\n",
        "download_files(11, file_nums)\n",
        "'''\n",
        "#file_nums = [63, 82, 92, 99]\n",
        "file_nums = [63, 82, 92, 99, 62]\n",
        "files = [\n",
        "         ([\"chb11_62.edf\", \"chb11_63.edf\", \"chb11_82.edf\"], 298),\n",
        "         ([\"chb11_63.edf\", \"chb11_82.edf\", \"chb11_92.edf\"], 2695),\n",
        "         ([\"chb11_82.edf\", \"chb11_92.edf\", \"chb11_99.edf\"], 1454)\n",
        "]\n",
        "download_files(11, file_nums)"
      ],
      "execution_count": null,
      "outputs": []
    },
    {
      "cell_type": "code",
      "metadata": {
        "id": "-5LaxZ5St87e"
      },
      "source": [
        "#patient 12\n",
        "'''\n",
        "file_nums = [6, 8, 9, 34, 35, 37, 40]\n",
        "files = [(\"chb12_06.edf\", 1665),\n",
        "         (\"chb12_06.edf\", 3415),\n",
        "         (\"chb12_08.edf\", 2798),\n",
        "         (\"chb12_09.edf\", 3082),\n",
        "         (\"chb12_34.edf\", 0),\n",
        "         (\"chb12_35.edf\", 0),\n",
        "         (\"chb12_37.edf\", 0),\n",
        "         (\"chb12_40.edf\", 0)]\n",
        "\n",
        "download_files(12, file_nums)\n",
        "'''\n",
        "file_nums = [21, 23, 24, 27, 32, 33, 35, 36, 37, 38, 41, 42, 20, 28, 34, 40]\n",
        "\n",
        "files = [\n",
        "         ([\"chb12_20.edf\", \"chb12_21.edf\", \"chb12_23.edf\"], 253),\n",
        "         ([\"chb12_23.edf\", \"chb12_24.edf\", \"chb12_27.edf\"], 916),\n",
        "         ([\"chb12_28.edf\", \"chb12_32.edf\", \"chb12_33.edf\"], 2185),\n",
        "         ([\"chb12_34.edf\", \"chb12_35.edf\", \"chb12_36.edf\"], 653),\n",
        "         ([\"chb12_36.edf\", \"chb12_37.edf\", \"chb12_38.edf\"], 1573),\n",
        "         ([\"chb12_40.edf\", \"chb12_41.edf\", \"chb12_42.edf\"], 699)\n",
        "]\n",
        "download_files(12, file_nums)"
      ],
      "execution_count": null,
      "outputs": []
    },
    {
      "cell_type": "code",
      "metadata": {
        "id": "GPUs4KvHvGSy"
      },
      "source": [
        "#patient 13\n",
        "'''\n",
        "file_nums = [5, 3, 4, 9, 55, 58, 59, 62]\n",
        "files = [(\"chb13_55.edf\", 2436),\n",
        "         (\"chb13_58.edf\", 2474),\n",
        "         (\"chb13_59.edf\", 3339),\n",
        "         (\"chb13_62.edf\", 2664),\n",
        "         (\"chb13_05.edf\", 0),\n",
        "         (\"chb13_03.edf\", 0),\n",
        "         (\"chb13_04.edf\", 0),\n",
        "         (\"chb13_09.edf\", 0)]\n",
        "download_files(13, file_nums)\n",
        "'''\n",
        "file_nums = [18, 19, 21, 39, 40, 56, 58, 59, 60, 62, 16, 38, 55]\n",
        "files = [\n",
        "         ([\"chb13_16.edf\", \"chb13_18.edf\", \"chb13_19.edf\"], 2077),         \n",
        "         ([\"chb13_38.edf\", \"chb13_39.edf\", \"chb13_40.edf\"], 142),\n",
        "         ([\"chb13_55.edf\", \"chb13_56.edf\", \"chb13_58.edf\"], 2474),\n",
        "         ([\"chb13_56.edf\", \"chb13_58.edf\", \"chb13_59.edf\"], 3339),\n",
        "         ([\"chb13_59.edf\", \"chb13_60.edf\", \"chb13_62.edf\"], 851)\n",
        "]\n",
        "download_files(13, file_nums)"
      ],
      "execution_count": null,
      "outputs": []
    },
    {
      "cell_type": "code",
      "metadata": {
        "id": "AjVY7KPuxjwE"
      },
      "source": [
        "#patient 14\n",
        "'''\n",
        "file_nums = [2, 3, 4, 6, 11, 13, 19, 16]\n",
        "files = [(\"chb14_03.edf\", 1986),\n",
        "         (\"chb14_04.edf\", 1372),\n",
        "         (\"chb14_06.edf\", 1911),\n",
        "         (\"chb14_11.edf\", 1838),\n",
        "         (\"chb14_02.edf\", 0),\n",
        "         (\"chb14_19.edf\", 0),\n",
        "         (\"chb14_13.edf\", 0),\n",
        "         (\"chb14_16.edf\", 0)]\n",
        "download_files(14, file_nums)\n",
        "'''\n",
        "file_nums = [2, 3, 4, 6, 7, 11, 16, 17, 26, 27, 1, 14, 25]\n",
        "files = [\n",
        "         ([\"chb14_01.edf\", \"chb14_02.edf\", \"chb14_03.edf\"], 1986),\n",
        "         ([\"chb14_02.edf\", \"chb14_03.edf\", \"chb14_04.edf\"], 1372),\n",
        "         ([\"chb14_03.edf\", \"chb14_04.edf\", \"chb14_06.edf\"], 1911),\n",
        "         ([\"chb14_06.edf\", \"chb14_07.edf\", \"chb14_11.edf\"], 1838),\n",
        "         ([\"chb14_14.edf\", \"chb14_16.edf\", \"chb14_17.edf\"], 3239),\n",
        "         ([\"chb14_25.edf\", \"chb14_26.edf\", \"chb14_27.edf\"], 2833)\n",
        "]\n",
        "download_files(14, file_nums)"
      ],
      "execution_count": null,
      "outputs": []
    },
    {
      "cell_type": "code",
      "metadata": {
        "id": "t33OL7Q-2d68"
      },
      "source": [
        "#patient 15\n",
        "'''\n",
        "file_nums = [4, 10, 13, 15, 16, 17, 31, 32]\n",
        "files = [(\"chb15_10.edf\", 1082),\n",
        "         (\"chb15_15.edf\", 1591),\n",
        "         (\"chb15_17.edf\", 1925),\n",
        "         (\"chb15_31.edf\", 1751),\n",
        "         (\"chb15_04.edf\", 0),\n",
        "         (\"chb15_13.edf\", 0),\n",
        "         (\"chb15_16.edf\", 0),\n",
        "         (\"chb15_32.edf\", 0)]\n",
        "download_files(15, file_nums)\n",
        "'''\n",
        "file_nums = [5, 6, 9, 10, 14, 15, 16, 17, 19, 20, 61, 62, 13, 8, 63, 4]\n",
        "files = [\n",
        "         ([\"chb15_04.edf\", \"chb15_05.edf\", \"chb15_06.edf\"], 272),\n",
        "         ([\"chb15_08.edf\", \"chb15_09.edf\", \"chb15_10.edf\"], 1082),\n",
        "         ([\"chb15_13.edf\", \"chb15_14.edf\", \"chb15_15.edf\"], 1591),\n",
        "         ([\"chb15_15.edf\", \"chb15_16.edf\", \"chb15_17.edf\"], 1925),\n",
        "         ([\"chb15_17.edf\", \"chb15_19.edf\", \"chb15_20.edf\"], 607),\n",
        "         ([\"chb15_63.edf\", \"chb15_61.edf\", \"chb15_62.edf\"], 751)\n",
        "]\n",
        "download_files(15, file_nums)"
      ],
      "execution_count": null,
      "outputs": []
    },
    {
      "cell_type": "code",
      "metadata": {
        "id": "r5vYWpAl3UuY"
      },
      "source": [
        "#patient 16\n",
        "'''\n",
        "file_nums = [4, 9, 10, 11, 13, 14, 16, 19]\n",
        "files = [(\"chb16_10.edf\", 2290),\n",
        "         (\"chb16_11.edf\", 1120),\n",
        "         (\"chb16_14.edf\", 1854),\n",
        "         (\"chb16_16.edf\", 1214),\n",
        "         (\"chb16_09.edf\", 0),\n",
        "         (\"chb16_04.edf\", 0),\n",
        "         (\"chb16_19.edf\", 0),\n",
        "         (\"chb16_13.edf\", 0)]\n",
        "download_files(16, file_nums)\n",
        "'''\n",
        "file_nums = [9, 10, 11, 13, 14, 15, 16, 17, 8, 12]\n",
        "files = [\n",
        "         ([\"chb16_08.edf\", \"chb16_09.edf\", \"chb16_10.edf\"], 2290),\n",
        "         ([\"chb16_09.edf\", \"chb16_10.edf\", \"chb16_11.edf\"], 1120),\n",
        "         ([\"chb16_12.edf\", \"chb16_13.edf\", \"chb16_14.edf\"], 1854),\n",
        "         ([\"chb16_14.edf\", \"chb16_15.edf\", \"chb16_16.edf\"], 1214),\n",
        "         ([\"chb16_15.edf\", \"chb16_16.edf\", \"chb16_17.edf\"], 227)         \n",
        "]\n",
        "download_files(16, file_nums)"
      ],
      "execution_count": null,
      "outputs": []
    },
    {
      "cell_type": "code",
      "metadata": {
        "id": "gQGEBlgO5oQa"
      },
      "source": [
        "#patient 17\n",
        "'''\n",
        "def download(files):\n",
        "  for item in files:\n",
        "    file_name = item[0]\n",
        "    url = f'https://physionet.org/static/published-projects/chbmit/1.0.0/chb17/'+file_name\n",
        "    response_code = sp.call(['wget', url])\n",
        "    if(response_code != 0):\n",
        "      print(f\"{file_name} not found\")\n",
        "    else:\n",
        "      print(f\"{file_name} downloaded\")\n",
        "\n",
        "file_nums = [3, 4, 5, 6, 13, 63]\n",
        "files = [(\"chb17a_03.edf\", 2282),\n",
        "         (\"chb17a_04.edf\", 3025),\n",
        "         (\"chb17b_63.edf\", 3136),\n",
        "         (\"chb17a_05.edf\", 0),\n",
        "         (\"chb17a_06.edf\", 0),\n",
        "         (\"chb17c_13.edf\", 0)]            \n",
        "\n",
        "download(files)           \n",
        "'''\n",
        "sp.call(['wget', 'https://physionet.org/static/published-projects/chbmit/1.0.0/chb17/chb17b_60.edf'])\n",
        "sp.call(['wget', 'https://physionet.org/static/published-projects/chbmit/1.0.0/chb17/chb17b_63.edf'])\n",
        "sp.call(['wget', 'https://physionet.org/static/published-projects/chbmit/1.0.0/chb17/chb17a_03.edf'])\n",
        "sp.call(['wget', 'https://physionet.org/static/published-projects/chbmit/1.0.0/chb17/chb17a_04.edf'])\n",
        "sp.call(['wget', 'https://physionet.org/static/published-projects/chbmit/1.0.0/chb17/chb17a_05.edf'])\n",
        "sp.call(['wget', 'https://physionet.org/static/published-projects/chbmit/1.0.0/chb17/chb17a_06.edf'])\n",
        "sp.call(['wget', 'https://physionet.org/static/published-projects/chbmit/1.0.0/chb17/chb17b_59.edf'])\n",
        "files = [\n",
        "         ([\"chb17b_59.edf\", \"chb17b_60.edf\", \"chb17b_63.edf\"], 3136),\n",
        "         ([\"chb17a_05.edf\", \"chb17a_03.edf\", \"chb17a_04.edf\"], 3025),\n",
        "         ([\"chb17a_06.edf\", \"chb17a_05.edf\", \"chb17a_03.edf\"], 2282)\n",
        "]     "
      ],
      "execution_count": null,
      "outputs": []
    },
    {
      "cell_type": "code",
      "metadata": {
        "id": "L2x9icIU6t_H"
      },
      "source": [
        "#patient 18\n",
        "'''\n",
        "file_nums = [5, 16, 26, 29, 31, 32, 34, 35]\n",
        "files = [(\"chb18_29.edf\", 3477),\n",
        "         (\"chb18_31.edf\", 2087),\n",
        "         (\"chb18_32.edf\", 1908),\n",
        "         (\"chb18_35.edf\", 2196),\n",
        "         (\"chb18_05.edf\", 0),\n",
        "         (\"chb18_16.edf\", 0),\n",
        "         (\"chb18_26.edf\", 0),\n",
        "         (\"chb18_34.edf\", 0)]\n",
        "#download_files(18, file_nums)\n",
        "'''\n",
        "file_nums = [28, 29, 30, 31, 32, 34, 35, 27, 33]\n",
        "files = [\n",
        "         ([\"chb18_27.edf\", \"chb18_28.edf\", \"chb18_29.edf\"], 3477),\n",
        "         ([\"chb18_28.edf\", \"chb18_30.edf\", \"chb18_31.edf\"], 2087),\n",
        "         ([\"chb18_30.edf\", \"chb18_31.edf\", \"chb18_32.edf\"], 1908),\n",
        "         ([\"chb18_33.edf\", \"chb18_34.edf\", \"chb18_35.edf\"], 2196),        \n",
        "]\n",
        "download_files(18, file_nums)"
      ],
      "execution_count": null,
      "outputs": []
    },
    {
      "cell_type": "code",
      "metadata": {
        "id": "Q2s-RomM9dSf"
      },
      "source": [
        "#patient 19\n",
        "'''\n",
        "file_nums = [1, 25, 29, 30]\n",
        "files = [(\"chb19_29.edf\", 2964),\n",
        "         (\"chb19_30.edf\", 3159),\n",
        "         (\"chb19_01.edf\", 0),\n",
        "         (\"chb19_25.edf\", 0)]\n",
        "#download_files(19, file_nums)\n",
        "'''\n",
        "file_nums = [27, 28, 29, 30, 26]\n",
        "files = [\n",
        "         ([\"chb19_26.edf\", \"chb19_27.edf\", \"chb19_28.edf\"], 299),\n",
        "         ([\"chb19_27.edf\", \"chb19_28.edf\", \"chb19_29.edf\"], 2964),\n",
        "         ([\"chb19_28.edf\", \"chb19_29.edf\", \"chb19_30.edf\"], 3159)\n",
        "]\n",
        "download_files(19, file_nums)"
      ],
      "execution_count": null,
      "outputs": []
    },
    {
      "cell_type": "code",
      "metadata": {
        "id": "hs5wXk1S936d"
      },
      "source": [
        "#patient 20\n",
        "'''\n",
        "file_nums = [13, 14, 21, 68, 21, 1, 17, 59]\n",
        "files = [(\"chb20_13.edf\", 1440),\n",
        "         (\"chb20_14.edf\", 1971),\n",
        "         (\"chb20_21.edf\", 2226),\n",
        "         (\"chb20_68.edf\", 1393),\n",
        "         (\"chb20_21.edf\", 0),\n",
        "         (\"chb20_01.edf\", 0),\n",
        "         (\"chb20_17.edf\", 0),\n",
        "         (\"chb20_59.edf\", 0)]\n",
        "#download_files(20, file_nums)         \n",
        "'''\n",
        "file_nums = [12, 13, 14, 15, 16, 60, 68, 11, 14, 59]\n",
        "files = [\n",
        "         ([\"chb20_11.edf\", \"chb20_12.edf\", \"chb20_13.edf\"], 1440),\n",
        "         ([\"chb20_12.edf\", \"chb20_13.edf\", \"chb20_14.edf\"], 1971),\n",
        "         ([\"chb20_14.edf\", \"chb20_15.edf\", \"chb20_16.edf\"], 2226),\n",
        "         ([\"chb20_59.edf\", \"chb20_60.edf\", \"chb20_68.edf\"], 1393)\n",
        "]\n",
        "download_files(20, file_nums)"
      ],
      "execution_count": null,
      "outputs": []
    },
    {
      "cell_type": "code",
      "metadata": {
        "id": "gG3uLco-Gc0T"
      },
      "source": [
        "#patient 21\n",
        "'''\n",
        "file_nums = [19, 20, 21, 22, 1, 14, 25, 33]\n",
        "files = [(\"chb21_19.edf\", 1288),\n",
        "         (\"chb21_20.edf\", 2627),\n",
        "         (\"chb21_21.edf\", 2003),\n",
        "         (\"chb21_22.edf\", 2553),\n",
        "         (\"chb21_01.edf\", 0),\n",
        "         (\"chb21_14.edf\", 0),\n",
        "         (\"chb21_25.edf\", 0),\n",
        "         (\"chb21_33.edf\", 0)]\n",
        "download_files(21, file_nums)\n",
        "'''\n",
        "file_nums = [18, 19, 20, 21, 22, 17, 23]\n",
        "files = [\n",
        "         ([\"chb21_17.edf\", \"chb21_18.edf\", \"chb21_19.edf\"], 1288),\n",
        "         ([\"chb21_18.edf\", \"chb21_19.edf\", \"chb21_20.edf\"], 2627),\n",
        "         ([\"chb21_19.edf\", \"chb21_20.edf\", \"chb21_21.edf\"], 2003),\n",
        "         ([\"chb21_23.edf\", \"chb21_21.edf\", \"chb21_22.edf\"], 2553),         \n",
        "]\n",
        "download_files(21, file_nums)"
      ],
      "execution_count": null,
      "outputs": []
    },
    {
      "cell_type": "code",
      "metadata": {
        "id": "ra2MvpFcHLOD"
      },
      "source": [
        "#patient 22\n",
        "'''\n",
        "file_nums = [20, 25, 38, 1, 77, 17]\n",
        "files = [(\"chb22_20.edf\", 3367),\n",
        "         (\"chb22_25.edf\", 3139),\n",
        "         (\"chb22_38.edf\", 1263),\n",
        "         (\"chb22_01.edf\", 0),\n",
        "         (\"chb22_77.edf\", 0),\n",
        "         (\"chb22_17.edf\", 0)]\n",
        "download_files(22, file_nums)\n",
        "'''\n",
        "file_nums = [19, 20, 24, 25, 30, 38, 18, 23, 29]\n",
        "files = [\n",
        "         ([\"chb22_18.edf\", \"chb22_19.edf\", \"chb22_20.edf\"], 3367),\n",
        "         ([\"chb22_23.edf\", \"chb22_24.edf\", \"chb22_25.edf\"], 3139),\n",
        "         ([\"chb22_29.edf\", \"chb22_30.edf\", \"chb22_38.edf\"], 1263)\n",
        "]\n",
        "download_files(22, file_nums)"
      ],
      "execution_count": null,
      "outputs": []
    },
    {
      "cell_type": "code",
      "metadata": {
        "id": "xH2MXoNeHtyE"
      },
      "source": [
        "#patient 23\n",
        "'''\n",
        "file_nums = [6, 9, 10, 16, 17, 20]\n",
        "files = [(\"chb23_06.edf\", 3962),\n",
        "         (\"chb23_09.edf\", 2589),\n",
        "         (\"chb23_09.edf\", 6885),\n",
        "         (\"chb23_09.edf\", 8505),\n",
        "         (\"chb23_10.edf\", 0),\n",
        "         (\"chb23_20.edf\", 0),\n",
        "         (\"chb23_16.edf\", 0),\n",
        "         (\"chb23_17.edf\", 0)]\n",
        "download_files(23, file_nums)\n",
        "'''\n",
        "file_nums = [6, 7, 8, 9, 10, 20, 19, 16]\n",
        "files = [\n",
        "         ([\"chb32_10.edf\", \"chb23_07.edf\", \"chb23_06.edf\"], 3962),\n",
        "         ([\"chb23_20.edf\", \"chb23_07.edf\", \"chb23_08.edf\"], 325),\n",
        "         ([\"chb23_19.edf\", \"chb23_07.edf\", \"chb23_08.edf\"], 5104),\n",
        "         ([\"chb23_16.edf\", \"chb23_08.edf\", \"chb23_09.edf\"], 2589),\n",
        "         ([\"chb23_07.edf\", \"chb23_08.edf\", \"chb23_09.edf\"], 6885),\n",
        "]\n",
        "download_files(23, file_nums)"
      ],
      "execution_count": null,
      "outputs": []
    },
    {
      "cell_type": "markdown",
      "metadata": {
        "id": "gpX2d4Fsq53M"
      },
      "source": [
        "##visualize part"
      ]
    },
    {
      "cell_type": "code",
      "metadata": {
        "id": "8b8kz5qORvIK"
      },
      "source": [
        "raw_data = edf.EdfReader(DOWNLOAD_PATH + \"chb01_03.edf\")\n",
        "signal = raw_data.readSignal(0)\n",
        "raw_data.close()"
      ],
      "execution_count": null,
      "outputs": []
    },
    {
      "cell_type": "code",
      "metadata": {
        "colab": {
          "base_uri": "https://localhost:8080/",
          "height": 573
        },
        "id": "ZW03ILbOqm6H",
        "outputId": "1ec49601-00d1-4d12-c06f-8f9769014757"
      },
      "source": [
        "length = 20 * 60 * 256\n",
        "\n",
        "ictal_start = 2996 * 256\n",
        "ictal_end = 3036 * 256\n",
        "\n",
        "pre_start = ictal_end - length\n",
        "pre_end = ictal_start\n",
        "\n",
        "inter_start = 0 #pre_start - length\n",
        "inter_end = pre_start\n",
        "\n",
        "ictal_seg = signal[ictal_start : ictal_end]\n",
        "pre_seg = signal[pre_start : pre_end]\n",
        "inter_seg = signal[inter_start : inter_end]\n",
        "after_ictal_seg = signal[ictal_end : ]\n",
        "\n",
        "# shifting signals to crct position by adding array of zeros to start\n",
        "pre_seg = np.concatenate([np.zeros(inter_seg.shape), pre_seg])\n",
        "ictal_seg = np.concatenate([np.zeros(pre_seg.shape), ictal_seg])\n",
        "after_ictal_seg = np.concatenate([np.zeros(ictal_seg.shape), after_ictal_seg])\n",
        "\n",
        "plt.figure(figsize = (20, 9))\n",
        "\n",
        "plt.plot(after_ictal_seg, color = 'blue')\n",
        "plt.plot(ictal_seg, color = 'red')\n",
        "plt.plot(pre_seg, color = 'orange')\n",
        "plt.plot(inter_seg, color = 'green')\n",
        "\n",
        "plt.title(\"Single channel\")\n",
        "plt.legend(['Postictal', 'Ictal', 'Preictal', 'Interictal'], loc = 'upper right')\n",
        "plt.show()"
      ],
      "execution_count": null,
      "outputs": [
        {
          "output_type": "display_data",
          "data": {
            "image/png": "[encoded data removed]",
            "text/plain": [
              "<Figure size 1440x648 with 1 Axes>"
            ]
          },
          "metadata": {
            "tags": [],
            "needs_background": "light"
          }
        }
      ]
    },
    {
      "cell_type": "markdown",
      "metadata": {
        "id": "FLHAxMdeTx6v"
      },
      "source": [
        "#testing a model"
      ]
    },
    {
      "cell_type": "code",
      "metadata": {
        "colab": {
          "base_uri": "https://localhost:8080/"
        },
        "id": "PcRRawFFgoWG",
        "outputId": "d73ceceb-a5d8-47ec-b947-fceaabc7b89c"
      },
      "source": [
        "!pip install  pyentrp\n",
        "!pip install detecta"
      ],
      "execution_count": null,
      "outputs": [
        {
          "output_type": "stream",
          "text": [
            "Collecting pyentrp\n",
            "  Downloading https://files.pythonhosted.org/packages/f4/60/4f9c29823ce1f71ec0aaced4ffddb2bcf65ad0b2d79734482a0ad9209a4e/pyentrp-0.6.0.tar.gz\n",
            "Requirement already satisfied: numpy>=1.7.0 in /usr/local/lib/python3.6/dist-packages (from pyentrp) (1.19.5)\n",
            "Building wheels for collected packages: pyentrp\n",
            "  Building wheel for pyentrp (setup.py) ... \u001b[?25l\u001b[?25hdone\n",
            "  Created wheel for pyentrp: filename=pyentrp-0.6.0-py2.py3-none-any.whl size=5040 sha256=472129d1041afbc5bc94cbef12b2965ef3e702ad80b5e696babb522d31eae308\n",
            "  Stored in directory: /root/.cache/pip/wheels/44/a7/bf/aa8564feec418eb244eed9cd6cf06aba8e3e3591ee6037e0fd\n",
            "Successfully built pyentrp\n",
            "Installing collected packages: pyentrp\n",
            "Successfully installed pyentrp-0.6.0\n",
            "Collecting detecta\n",
            "  Downloading https://files.pythonhosted.org/packages/ef/da/0bf9676a6b7e5d723ed7f40b91f4ece5d4ccfb124103eae1bf61aab47b06/detecta-0.0.5-py3-none-any.whl\n",
            "Installing collected packages: detecta\n",
            "Successfully installed detecta-0.0.5\n"
          ],
          "name": "stdout"
        }
      ]
    },
    {
      "cell_type": "code",
      "metadata": {
        "id": "FY2W9BZU3d7y"
      },
      "source": [
        "import random\n",
        "import pandas as pd\n",
        "import numpy as np\n",
        "from scipy.fftpack import fft\n",
        "from scipy.signal import welch\n",
        "from pyentrp import entropy as ent\n",
        "from detecta import detect_peaks\n",
        "\n",
        "from sklearn.utils import shuffle\n",
        "from sklearn.preprocessing import StandardScaler\n",
        "from sklearn.model_selection import train_test_split\n",
        "from sklearn.ensemble import RandomForestClassifier\n",
        "from sklearn.svm import SVC\n",
        "from sklearn.metrics import confusion_matrix\n",
        "from sklearn.model_selection import StratifiedKFold\n",
        "\n",
        "import keras\n",
        "from keras.models import Sequential\n",
        "from keras.layers import Dense, Dropout"
      ],
      "execution_count": null,
      "outputs": []
    },
    {
      "cell_type": "code",
      "metadata": {
        "id": "BJz6zMiJ2zdK"
      },
      "source": [
        "def get_fft_values(y_values, T, N, f_s):\n",
        "    f_values = np.linspace(0.0, 1.0/(2.0*T), N//2)\n",
        "    fft_values_ = fft(y_values)\n",
        "    fft_values = 2.0/N * np.abs(fft_values_[0:N//2])\n",
        "    return f_values, fft_values"
      ],
      "execution_count": null,
      "outputs": []
    },
    {
      "cell_type": "code",
      "metadata": {
        "id": "DNtGG7cT3X3y"
      },
      "source": [
        " def get_psd_values(y_values, T, N, f_s):\n",
        "    f_values, psd_values = welch(y_values, fs=f_s)\n",
        "    return f_values, psd_values"
      ],
      "execution_count": null,
      "outputs": []
    },
    {
      "cell_type": "code",
      "metadata": {
        "id": "uKqV0N5k7z5q"
      },
      "source": [
        "def autocorr(x):\n",
        "    result = np.correlate(x, x, mode='full')\n",
        "    return result[len(result)//2:]\n",
        " \n",
        "def get_autocorr_values(y_values, T, N, f_s):\n",
        "    autocorr_values = autocorr(y_values)\n",
        "    x_values = np.array([T * jj for jj in range(0, N)])\n",
        "    return x_values, autocorr_values"
      ],
      "execution_count": null,
      "outputs": []
    },
    {
      "cell_type": "code",
      "metadata": {
        "id": "dO5wtg1M9H4N"
      },
      "source": [
        "def get_first_n_peaks(x,y,no_peaks=5):\n",
        "  x_, y_ = list(x), list(y)\n",
        "  if len(x_):\n",
        "    return x_[:no_peaks], y_[:no_peaks]\n",
        "  else:\n",
        "    missing_no_peaks = no_peaks-len(x_)\n",
        "    return x_ + [0]*missing_no_peaks, y_ + [0]*missing_no_peaks"
      ],
      "execution_count": null,
      "outputs": []
    },
    {
      "cell_type": "code",
      "metadata": {
        "id": "VaBCpPRt9Cje"
      },
      "source": [
        "def get_features(x_values, y_values, mph):\n",
        "  indices_peaks = detect_peaks(y_values, mph=mph)\n",
        "  peaks_x, peaks_y = get_first_n_peaks(x_values[indices_peaks], y_values[indices_peaks])\n",
        "  return peaks_x + peaks_y"
      ],
      "execution_count": null,
      "outputs": []
    },
    {
      "cell_type": "code",
      "metadata": {
        "id": "kx8j9i-YZPj-"
      },
      "source": [
        "#temp\n",
        "def helper_func(signal, T, fs, N):\n",
        "  fft_x,fft_y = get_fft_values(signal, T, N, fs)\n",
        "  psd_x, psd_y = get_psd_values(signal, T, N, fs)  \n",
        "  autocorr_x, autocorr_y = get_autocorr_values(signal, T, N, fs)  \n",
        "  \n",
        "  return (fft_x, fft_y, psd_x, psd_y, autocorr_x, autocorr_y)"
      ],
      "execution_count": null,
      "outputs": []
    },
    {
      "cell_type": "code",
      "metadata": {
        "id": "OjpcnOr9ddnw"
      },
      "source": [
        "#temp\n",
        "def get_values_func(data, channel_num, preictal_interval, window_size):\n",
        "  gap = 10 * 60 * 256\n",
        "  length = preictal_interval * 60 * 256\n",
        "  window_size = window_size * 256\n",
        "  inc = int(window_size / 15)\n",
        "  data_list = list()\n",
        "  label_list = list()\n",
        "\n",
        "  for item in data:    \n",
        "    files = item[0]\n",
        "    start_time = item[1] + gap\n",
        "\n",
        "    if len(files) == 3:\n",
        "      temp_inter_1 = edf.EdfReader(DOWNLOAD_PATH+files[0]).readSignal(channel_num)\n",
        "      temp_inter_2 = edf.EdfReader(DOWNLOAD_PATH+files[1]).readSignal(channel_num)\n",
        "      temp_pre = edf.EdfReader(DOWNLOAD_PATH+files[2]).readSignal(channel_num)[0: start_time*256]    \n",
        "      sequence = np.concatenate((temp_inter_1, temp_inter_2, temp_pre))\n",
        "    else:\n",
        "      temp_inter = edf.EdfReader(DOWNLOAD_PATH+files[0]).readSignal(channel_num)\n",
        "      temp_pre = edf.EdfReader(DOWNLOAD_PATH+files[1]).readSignal(channel_num)[0: start_time*256]    \n",
        "      sequence = np.concatenate((temp_inter, temp_pre))\n",
        "\n",
        "    sequence = filter_signal(sequence)\n",
        "    signal_length = sequence.shape[0]\n",
        "    \n",
        "    interval = preictal_interval * 60 * 256\n",
        "    pre_start = signal_length - interval\n",
        "    inter_start = pre_start - interval\n",
        "    interictal, preictal = sequence[inter_start : pre_start], sequence[pre_start:]\n",
        "    \n",
        "    fft_x, fft_y, psd_x, psd_y, auto_x, auto_y = list(), list(), list(), list(), list(), list()\n",
        "    #features from interictal files\n",
        "    for i in range(0, interictal.shape[0] - window_size, inc):\n",
        "      segment = interictal[i : i + window_size]\n",
        "      features = helper_func(segment, T, F_S, N)      \n",
        "      fft_x.append(features[0])\n",
        "      fft_y.append(features[1])\n",
        "      psd_x.append(features[2])\n",
        "      psd_y.append(features[3])\n",
        "      auto_x.append(features[4])\n",
        "      auto_y.append(features[5])\n",
        "    \n",
        "    #features from preictal values\n",
        "    for i in range(0, preictal.shape[0] - window_size, inc):\n",
        "      segment = preictal[i : i + window_size]\n",
        "      features = helper_func(segment, T, F_S, N)      \n",
        "      \n",
        "\n",
        "  return np.array(fft_x), np.array(fft_y), np.array(psd_x), np.array(psd_y), np.array(auto_x), np.array(auto_y)"
      ],
      "execution_count": null,
      "outputs": []
    },
    {
      "cell_type": "code",
      "metadata": {
        "colab": {
          "base_uri": "https://localhost:8080/"
        },
        "id": "869zHP2Yg74f",
        "outputId": "63d3e1b3-7a02-48b7-dc2e-4ea678ca9cf3"
      },
      "source": [
        "PATIENT_NUM = 1\n",
        "\n",
        "#optimal value\n",
        "CHANNEL_NUM = 10\n",
        "PREICTAL_INTERVAL_IN_MINS = 30#in mins\n",
        "SEGMENT_SIZE = 15#in secs\n",
        "\n",
        "#values for feature extraction\n",
        "N = SEGMENT_SIZE * 256\n",
        "T = SEGMENT_SIZE / N\n",
        "F_S = 256\n",
        "\n",
        "print(f\"Channel num: {CHANNEL_NUM} pre ictal interval: {PREICTAL_INTERVAL_IN_MINS} segment size: {SEGMENT_SIZE}\")\n",
        "fft_x, fft_y, psd_x, psd_y, auto_x, auto_y = get_values_func(files, CHANNEL_NUM, PREICTAL_INTERVAL_IN_MINS, SEGMENT_SIZE)\n",
        "print(\"Number of samples:  \", fft_x.shape, psd_x.shape, auto_x.shape)"
      ],
      "execution_count": null,
      "outputs": [
        {
          "output_type": "stream",
          "text": [
            "Channel num: 10 pre ictal interval: 30 segment size: 15\n",
            "Number of samples:   (1785, 1920) (1785, 129) (1785, 3840)\n"
          ],
          "name": "stdout"
        }
      ]
    },
    {
      "cell_type": "code",
      "metadata": {
        "id": "q1ueXUXjjOcb"
      },
      "source": [
        "df_fftx = pd.DataFrame(fft_x[0:100])\n",
        "df_ffty = pd.DataFrame(fft_y[0:100])\n",
        "\n",
        "df_psdx = pd.DataFrame(psd_x[0:100])\n",
        "df_psdy = pd.DataFrame(psd_y[0:100])\n",
        "\n",
        "df_autox = pd.DataFrame(auto_x[0:100])\n",
        "df_autoy = pd.DataFrame(auto_y[0:100])\n",
        "\n",
        "df_fftx.to_csv('fft_x_values.csv')\n",
        "df_ffty.to_csv('fft_y_values.csv')\n",
        "df_psdx.to_csv('psd_x_values.csv')\n",
        "df_psdy.to_csv('psd_y_values.csv')\n",
        "df_autox.to_csv('auto_x_values.csv')\n",
        "df_autoy.to_csv('auto_y_values.csv')"
      ],
      "execution_count": null,
      "outputs": []
    },
    {
      "cell_type": "code",
      "metadata": {
        "id": "9ygdxhCT8H1n"
      },
      "source": [
        "def extract_features(signal, T, fs, N):\n",
        "  features = []\n",
        "  signal_min = np.nanpercentile(signal, 5)\n",
        "  signal_max = np.nanpercentile(signal, 95)\n",
        "\n",
        "  mph = signal_min + (signal_max - signal_min)/10\n",
        "\n",
        "  features += get_features(*get_psd_values(signal, T, N, fs), mph)\n",
        "  features += get_features(*get_fft_values(signal, T, N, fs), mph)\n",
        "  features += get_features(*get_autocorr_values(signal, T, N, fs), mph)\n",
        "  return features"
      ],
      "execution_count": null,
      "outputs": []
    },
    {
      "cell_type": "code",
      "metadata": {
        "id": "acv67NuleI_X"
      },
      "source": [
        "def accuracy(predictions, y_val):\n",
        "  true_count  = 0\n",
        "  for true, pred in zip(y_val,  predictions):\n",
        "    if(true == pred):\n",
        "      true_count += 1\n",
        "\n",
        "  return true_count / len(predictions)"
      ],
      "execution_count": null,
      "outputs": []
    },
    {
      "cell_type": "code",
      "metadata": {
        "id": "4zELxJKFGcMZ"
      },
      "source": [
        "def process_data_model(data, channel_num, preictal_interval, window_size):\n",
        "  gap = 10 * 60 * 256\n",
        "  length = preictal_interval * 60 * 256\n",
        "  window_size = window_size * 256\n",
        "  inc = int(window_size / 15)\n",
        "  data_list = list()\n",
        "  label_list = list()\n",
        "\n",
        "  for item in data:    \n",
        "    files = item[0]\n",
        "    start_time = item[1] + gap\n",
        "\n",
        "    if len(files) == 3:\n",
        "      temp_inter_1 = edf.EdfReader(DOWNLOAD_PATH+files[0]).readSignal(channel_num)\n",
        "      temp_inter_2 = edf.EdfReader(DOWNLOAD_PATH+files[1]).readSignal(channel_num)\n",
        "      temp_pre = edf.EdfReader(DOWNLOAD_PATH+files[2]).readSignal(channel_num)[0: start_time*256]    \n",
        "      sequence = np.concatenate((temp_inter_1, temp_inter_2, temp_pre))\n",
        "    else:\n",
        "      temp_inter = edf.EdfReader(DOWNLOAD_PATH+files[0]).readSignal(channel_num)\n",
        "      temp_pre = edf.EdfReader(DOWNLOAD_PATH+files[1]).readSignal(channel_num)[0: start_time*256]    \n",
        "      sequence = np.concatenate((temp_inter, temp_pre))\n",
        "\n",
        "    sequence = filter_signal(sequence)\n",
        "    signal_length = sequence.shape[0]\n",
        "    \n",
        "    interval = preictal_interval * 60 * 256\n",
        "    pre_start = signal_length - interval\n",
        "    inter_start = pre_start - interval\n",
        "\n",
        "    interictal, preictal = sequence[inter_start : pre_start], sequence[pre_start:]\n",
        "\n",
        "    #features from interictal files\n",
        "    for i in range(0, interictal.shape[0] - window_size, inc):\n",
        "      segment = interictal[i : i + window_size]\n",
        "      features = extract_features(segment, T, F_S, N)      \n",
        "      data_list.append(features)      \n",
        "      label_list.append(0)\n",
        "    \n",
        "    #features from preictal values\n",
        "    for i in range(0, preictal.shape[0] - window_size, inc):\n",
        "      segment = preictal[i : i + window_size]\n",
        "      features = extract_features(segment, T, F_S, N)      \n",
        "      data_list.append(features)     \n",
        "      label_list.append(1)\n",
        "\n",
        "  #some samples 28 features instead of 30. so fill those samples with zeros\n",
        "  for sample in data_list:\n",
        "    while len(sample) < 30:      \n",
        "      sample.append(0)\n",
        "    \n",
        "  return np.asarray(data_list), np.asarray(label_list)"
      ],
      "execution_count": null,
      "outputs": []
    },
    {
      "cell_type": "markdown",
      "metadata": {
        "id": "ZKf1jmCRA2wt"
      },
      "source": [
        "###extract features"
      ]
    },
    {
      "cell_type": "code",
      "metadata": {
        "id": "bEk9O7cluTfH"
      },
      "source": [
        "PATIENT_NUM = 1\n",
        "\n",
        "#optimal value\n",
        "CHANNEL_NUM = 19\n",
        "PREICTAL_INTERVAL_IN_MINS = 30#in mins\n",
        "SEGMENT_SIZE = 15#in secs\n",
        "\n",
        "#values for feature extraction\n",
        "N = SEGMENT_SIZE * 256\n",
        "T = SEGMENT_SIZE / N\n",
        "F_S = 256"
      ],
      "execution_count": null,
      "outputs": []
    },
    {
      "cell_type": "code",
      "metadata": {
        "colab": {
          "base_uri": "https://localhost:8080/"
        },
        "id": "ONjVB2jVOfpC",
        "outputId": "19c145f8-28ce-4e77-d1b0-327eef9178ac"
      },
      "source": [
        "files"
      ],
      "execution_count": null,
      "outputs": [
        {
          "output_type": "execute_result",
          "data": {
            "text/plain": [
              "[(['chb01_01.edf', 'chb01_02.edf', 'chb01_03.edf'], 2996),\n",
              " (['chb01_13.edf', 'chb01_14.edf', 'chb01_15.edf'], 1732),\n",
              " (['chb01_14.edf', 'chb01_15.edf', 'chb01_16.edf'], 1015),\n",
              " (['chb01_16.edf', 'chb01_17.edf', 'chb01_18.edf'], 1720),\n",
              " (['chb01_24.edf', 'chb01_25.edf', 'chb01_26.edf'], 1862)]"
            ]
          },
          "metadata": {
            "tags": []
          },
          "execution_count": 48
        }
      ]
    },
    {
      "cell_type": "code",
      "metadata": {
        "colab": {
          "base_uri": "https://localhost:8080/"
        },
        "id": "99s5x242WrPB",
        "outputId": "fcd10df4-6dc2-4b6b-ac58-49cc9ce10f1d"
      },
      "source": [
        "print(f\"Channel num: {CHANNEL_NUM} pre ictal interval: {PREICTAL_INTERVAL_IN_MINS} segment size: {SEGMENT_SIZE}\")\n",
        "x, y = process_data_model(files, CHANNEL_NUM, PREICTAL_INTERVAL_IN_MINS, SEGMENT_SIZE)\n",
        "print(\"Number of samples:  \", x.shape)"
      ],
      "execution_count": null,
      "outputs": [
        {
          "output_type": "stream",
          "text": [
            "Channel num: 19 pre ictal interval: 30 segment size: 15\n",
            "Number of samples:   (17850, 30)\n"
          ],
          "name": "stdout"
        }
      ]
    },
    {
      "cell_type": "code",
      "metadata": {
        "id": "t7ffZqVppX6P"
      },
      "source": [
        "s_x, s_y = x[0:100], y[0:100]"
      ],
      "execution_count": null,
      "outputs": []
    },
    {
      "cell_type": "code",
      "metadata": {
        "id": "iYYAvEImlW-A"
      },
      "source": [
        "data_x = pd.DataFrame(s_x)\n",
        "data_y = pd.DataFrame(s_y)\n",
        "data_x.to_csv('Data_x.csv')\n",
        "data_y.to_csv('Data_y.csv')"
      ],
      "execution_count": null,
      "outputs": []
    },
    {
      "cell_type": "code",
      "metadata": {
        "id": "FdTzkUIAmcyr"
      },
      "source": [
        "plt.plot(x[0])\n",
        "plt.show()"
      ],
      "execution_count": null,
      "outputs": []
    },
    {
      "cell_type": "code",
      "metadata": {
        "id": "Y8rjAjENnOoS"
      },
      "source": [
        "plt.plot(x[5358])\n",
        "plt.show()"
      ],
      "execution_count": null,
      "outputs": []
    },
    {
      "cell_type": "code",
      "metadata": {
        "id": "AmN8p2O9kVha"
      },
      "source": [
        "'''\n",
        "Interval    Window_size    Samples\n",
        "10          15             5850\n",
        "15          15             8850\n",
        "20          15             11850\n",
        "25          15             14850\n",
        "30          15             17850\n",
        "45          15             26850\n",
        "60          15             35850\n",
        "'''"
      ],
      "execution_count": null,
      "outputs": []
    },
    {
      "cell_type": "code",
      "metadata": {
        "id": "XEvqm63Q_Udk"
      },
      "source": [
        "'''\n",
        "Reduce the number of samples. \n",
        "So that final number of samples will be the same for varying preictal intervals and window size.\n",
        "The reduced number of samples will contain equal number of preictal and interictal class.\n",
        "'''\n",
        "\n",
        "final_size = 17850\n",
        "n_samples = x.shape[0]\n",
        "\n",
        "if(n_samples > final_size):\n",
        "  preictal_index = random.sample(range(0, int(n_samples / 2)), int(final_size / 2))\n",
        "  interictal_index = random.sample(range(int(n_samples / 2), n_samples), int(final_size / 2))\n",
        "  index = preictal_index + interictal_index\n",
        "  x = x[index]\n",
        "  y = y[index]"
      ],
      "execution_count": null,
      "outputs": []
    },
    {
      "cell_type": "code",
      "metadata": {
        "colab": {
          "base_uri": "https://localhost:8080/"
        },
        "id": "937xcurQ6tdd",
        "outputId": "0be2eb37-ff94-4471-c145-e8a692fb8eae"
      },
      "source": [
        "x, y = shuffle(x, y)\n",
        "x.shape"
      ],
      "execution_count": null,
      "outputs": [
        {
          "output_type": "execute_result",
          "data": {
            "text/plain": [
              "(21510, 30)"
            ]
          },
          "metadata": {
            "tags": []
          },
          "execution_count": 84
        }
      ]
    },
    {
      "cell_type": "code",
      "metadata": {
        "id": "G9YxEQuLEJ_e"
      },
      "source": [
        "#random forest\n",
        "def random_forest(x_train, y_train, x_val, y_val):\n",
        "  rf_clf = RandomForestClassifier()\n",
        "  rf_clf.fit(x_train, y_train)\n",
        "\n",
        "  rf_predictions = rf_clf.predict(x_val)\n",
        "  fpr = confusion_matrix(y_val, rf_predictions, normalize = 'true')[0][1]\n",
        "  return accuracy(rf_predictions, y_val), fpr"
      ],
      "execution_count": null,
      "outputs": []
    },
    {
      "cell_type": "code",
      "metadata": {
        "id": "TfFYE6koeW0z"
      },
      "source": [
        "#svm\n",
        "def svc_model(x_train, y_train, x_val, y_val):\n",
        "  svc_clf = SVC(gamma = 'auto')\n",
        "  svc_clf.fit(x_train, y_train)\n",
        "\n",
        "  svc_predictions = svc_clf.predict(x_val)\n",
        "  fpr = confusion_matrix(y_val, svc_predictions, normalize = 'true')[0][1]\n",
        "  return accuracy(svc_predictions, y_val), fpr"
      ],
      "execution_count": null,
      "outputs": []
    },
    {
      "cell_type": "code",
      "metadata": {
        "id": "5lNUpUV_EUTX"
      },
      "source": [
        "#neural net\n",
        "def neural_net(x_train, y_train, x_val, y_val):\n",
        "  model = Sequential()\n",
        "  model.add(Dense(128, input_dim = 30, activation = 'relu'))\n",
        "  model.add(Dense(256, activation = 'relu'))\n",
        "  model.add(Dense(1, activation = 'sigmoid'))\n",
        "\n",
        "  model.compile(loss = 'binary_crossentropy', optimizer = 'adam', metrics = ['accuracy'])\n",
        "  model.fit(x_train, y_train, epochs = 50, batch_size = 8, verbose = 0)\n",
        "\n",
        "  nn_predictions = model.predict_classes(x_val)\n",
        "  nn_predictions = [p[0] for p in nn_predictions]\n",
        "  fpr = confusion_matrix(y_val, nn_predictions, normalize = 'true')[0][1]\n",
        "  return accuracy(nn_predictions, y_val), fpr"
      ],
      "execution_count": null,
      "outputs": []
    },
    {
      "cell_type": "code",
      "metadata": {
        "colab": {
          "base_uri": "https://localhost:8080/"
        },
        "id": "5ATZE_UXPeO0",
        "outputId": "f7052986-4b2a-43da-d188-f6eafc14e53c"
      },
      "source": [
        "#k-fold\n",
        "skf = StratifiedKFold(n_splits = 4, shuffle = True, random_state = 10)\n",
        "\n",
        "rf_acc_list, svm_acc_list, nn_acc_list = list(), list(), list()\n",
        "rf_fpr_list, svm_fpr_list, nn_fpr_list = list(), list(), list()\n",
        "\n",
        "\n",
        "for train_index, test_index in skf.split(x, y):\n",
        "  x_train, y_train = x[train_index], y[train_index]\n",
        "  x_test, y_test = x[test_index], y[test_index]\n",
        "\n",
        "  scaler = StandardScaler()\n",
        "  \n",
        "  x_train = scaler.fit_transform(x_train)\n",
        "  x_test = scaler.transform(x_test)\n",
        "\n",
        "  acc, fpr = random_forest(x_train, y_train, x_test, y_test)\n",
        "  rf_acc_list.append(acc)\n",
        "  rf_fpr_list.append(fpr)\n",
        "\n",
        "  acc, fpr = svc_model(x_train, y_train, x_test, y_test)\n",
        "  svm_acc_list.append(acc)\n",
        "  svm_fpr_list.append(fpr)\n",
        "\n",
        "  acc, fpr = neural_net(x_train, y_train, x_test, y_test)\n",
        "  nn_acc_list.append(acc)\n",
        "  nn_fpr_list.append(fpr)\n",
        "\n",
        "print(f\"RF  Acc: {np.average(rf_acc_list)} FPR: {np.average(rf_fpr_list)}\")\n",
        "print(f\"SMV  Acc: {np.average(svm_acc_list)} FPR: {np.average(svm_fpr_list)}\")\n",
        "print(f\"NN  Acc: {np.average(nn_acc_list)} FPR: {np.average(nn_fpr_list)}\")"
      ],
      "execution_count": null,
      "outputs": [
        {
          "output_type": "stream",
          "text": [
            "/usr/local/lib/python3.6/dist-packages/tensorflow/python/keras/engine/sequential.py:450: UserWarning: `model.predict_classes()` is deprecated and will be removed after 2021-01-01. Please use instead:* `np.argmax(model.predict(x), axis=-1)`,   if your model does multi-class classification   (e.g. if it uses a `softmax` last-layer activation).* `(model.predict(x) > 0.5).astype(\"int32\")`,   if your model does binary classification   (e.g. if it uses a `sigmoid` last-layer activation).\n",
            "  warnings.warn('`model.predict_classes()` is deprecated and '\n",
            "/usr/local/lib/python3.6/dist-packages/tensorflow/python/keras/engine/sequential.py:450: UserWarning: `model.predict_classes()` is deprecated and will be removed after 2021-01-01. Please use instead:* `np.argmax(model.predict(x), axis=-1)`,   if your model does multi-class classification   (e.g. if it uses a `softmax` last-layer activation).* `(model.predict(x) > 0.5).astype(\"int32\")`,   if your model does binary classification   (e.g. if it uses a `sigmoid` last-layer activation).\n",
            "  warnings.warn('`model.predict_classes()` is deprecated and '\n",
            "/usr/local/lib/python3.6/dist-packages/tensorflow/python/keras/engine/sequential.py:450: UserWarning: `model.predict_classes()` is deprecated and will be removed after 2021-01-01. Please use instead:* `np.argmax(model.predict(x), axis=-1)`,   if your model does multi-class classification   (e.g. if it uses a `softmax` last-layer activation).* `(model.predict(x) > 0.5).astype(\"int32\")`,   if your model does binary classification   (e.g. if it uses a `sigmoid` last-layer activation).\n",
            "  warnings.warn('`model.predict_classes()` is deprecated and '\n"
          ],
          "name": "stderr"
        },
        {
          "output_type": "stream",
          "text": [
            "RF  Acc: 0.837238315088445 FPR: 0.19181860290601924\n",
            "SMV  Acc: 0.6686657469700188 FPR: 0.3950727528599763\n",
            "NN  Acc: 0.7364016194895923 FPR: 0.2769850769891445\n"
          ],
          "name": "stdout"
        },
        {
          "output_type": "stream",
          "text": [
            "/usr/local/lib/python3.6/dist-packages/tensorflow/python/keras/engine/sequential.py:450: UserWarning: `model.predict_classes()` is deprecated and will be removed after 2021-01-01. Please use instead:* `np.argmax(model.predict(x), axis=-1)`,   if your model does multi-class classification   (e.g. if it uses a `softmax` last-layer activation).* `(model.predict(x) > 0.5).astype(\"int32\")`,   if your model does binary classification   (e.g. if it uses a `sigmoid` last-layer activation).\n",
            "  warnings.warn('`model.predict_classes()` is deprecated and '\n"
          ],
          "name": "stderr"
        }
      ]
    },
    {
      "cell_type": "markdown",
      "metadata": {
        "id": "NsvOpMHhvKom"
      },
      "source": [
        "##visualize results"
      ]
    },
    {
      "cell_type": "code",
      "metadata": {
        "id": "P0Jd2DmyvUQn"
      },
      "source": [
        "import pandas as pd\n",
        "from matplotlib import pyplot as plt"
      ],
      "execution_count": null,
      "outputs": []
    },
    {
      "cell_type": "code",
      "metadata": {
        "id": "KQw3-fwZnLSP"
      },
      "source": [
        "results = pd.read_csv('stat_model_results.csv')"
      ],
      "execution_count": null,
      "outputs": []
    },
    {
      "cell_type": "code",
      "metadata": {
        "colab": {
          "base_uri": "https://localhost:8080/",
          "height": 278
        },
        "id": "kXR43udPuo-I",
        "outputId": "480c70f4-fd85-4202-d3be-a61a196566a5"
      },
      "source": [
        "results.head()"
      ],
      "execution_count": null,
      "outputs": [
        {
          "output_type": "execute_result",
          "data": {
            "text/html": [
              "<div>\n",
              "<style scoped>\n",
              "    .dataframe tbody tr th:only-of-type {\n",
              "        vertical-align: middle;\n",
              "    }\n",
              "\n",
              "    .dataframe tbody tr th {\n",
              "        vertical-align: top;\n",
              "    }\n",
              "\n",
              "    .dataframe thead th {\n",
              "        text-align: right;\n",
              "    }\n",
              "</style>\n",
              "<table border=\"1\" class=\"dataframe\">\n",
              "  <thead>\n",
              "    <tr style=\"text-align: right;\">\n",
              "      <th></th>\n",
              "      <th>Unnamed: 0</th>\n",
              "      <th>Max Difference</th>\n",
              "      <th>Unnamed: 2</th>\n",
              "      <th>Unnamed: 3</th>\n",
              "      <th>Min Difference</th>\n",
              "      <th>Unnamed: 5</th>\n",
              "      <th>Unnamed: 6</th>\n",
              "      <th>optimized results</th>\n",
              "      <th>Unnamed: 8</th>\n",
              "      <th>Unnamed: 9</th>\n",
              "      <th>Unnamed: 10</th>\n",
              "      <th>Unnamed: 11</th>\n",
              "      <th>Unnamed: 12</th>\n",
              "      <th>Non-optimized results</th>\n",
              "      <th>Unnamed: 14</th>\n",
              "      <th>Unnamed: 15</th>\n",
              "      <th>Unnamed: 16</th>\n",
              "      <th>Unnamed: 17</th>\n",
              "      <th>Unnamed: 18</th>\n",
              "    </tr>\n",
              "  </thead>\n",
              "  <tbody>\n",
              "    <tr>\n",
              "      <th>0</th>\n",
              "      <td>patient</td>\n",
              "      <td>channel num</td>\n",
              "      <td>preictal interval</td>\n",
              "      <td>window size</td>\n",
              "      <td>channel num</td>\n",
              "      <td>preictal interval</td>\n",
              "      <td>window size</td>\n",
              "      <td>RF_ACC</td>\n",
              "      <td>RF_FPR</td>\n",
              "      <td>SVM_ACC</td>\n",
              "      <td>SVM_FPR</td>\n",
              "      <td>NN_ACC</td>\n",
              "      <td>NN_FPR</td>\n",
              "      <td>RF_ACC</td>\n",
              "      <td>RF_FPR</td>\n",
              "      <td>SVM_ACC</td>\n",
              "      <td>SVM_FPR</td>\n",
              "      <td>NN_ACC</td>\n",
              "      <td>NN_FPR</td>\n",
              "    </tr>\n",
              "    <tr>\n",
              "      <th>1</th>\n",
              "      <td>1</td>\n",
              "      <td>0</td>\n",
              "      <td>25</td>\n",
              "      <td>15</td>\n",
              "      <td>16</td>\n",
              "      <td>20</td>\n",
              "      <td>10</td>\n",
              "      <td>0.9053</td>\n",
              "      <td>0.07</td>\n",
              "      <td>0.7736</td>\n",
              "      <td>0.19</td>\n",
              "      <td>0.8439</td>\n",
              "      <td>0.17</td>\n",
              "      <td>0.8074</td>\n",
              "      <td>0.19</td>\n",
              "      <td>0.6547</td>\n",
              "      <td>0.35</td>\n",
              "      <td>0.7013</td>\n",
              "      <td>0.29</td>\n",
              "    </tr>\n",
              "    <tr>\n",
              "      <th>2</th>\n",
              "      <td>2</td>\n",
              "      <td>6</td>\n",
              "      <td>20</td>\n",
              "      <td>15</td>\n",
              "      <td>11</td>\n",
              "      <td>15</td>\n",
              "      <td>10</td>\n",
              "      <td>0.9182</td>\n",
              "      <td>0.07</td>\n",
              "      <td>0.8116</td>\n",
              "      <td>0.13</td>\n",
              "      <td>0.8443</td>\n",
              "      <td>0.13</td>\n",
              "      <td>0.8887</td>\n",
              "      <td>0.11</td>\n",
              "      <td>0.7278</td>\n",
              "      <td>0.27</td>\n",
              "      <td>0.7726</td>\n",
              "      <td>0.25</td>\n",
              "    </tr>\n",
              "    <tr>\n",
              "      <th>3</th>\n",
              "      <td>3</td>\n",
              "      <td>12</td>\n",
              "      <td>15</td>\n",
              "      <td>15</td>\n",
              "      <td>7</td>\n",
              "      <td>30</td>\n",
              "      <td>15</td>\n",
              "      <td>0.8762</td>\n",
              "      <td>0.06</td>\n",
              "      <td>0.7189</td>\n",
              "      <td>0.21</td>\n",
              "      <td>0.7594</td>\n",
              "      <td>0.27</td>\n",
              "      <td>0.8864</td>\n",
              "      <td>0.13</td>\n",
              "      <td>0.6556</td>\n",
              "      <td>0.39</td>\n",
              "      <td>0.7546</td>\n",
              "      <td>0.25</td>\n",
              "    </tr>\n",
              "    <tr>\n",
              "      <th>4</th>\n",
              "      <td>4</td>\n",
              "      <td>3</td>\n",
              "      <td>25</td>\n",
              "      <td>15</td>\n",
              "      <td>16</td>\n",
              "      <td>10</td>\n",
              "      <td>10</td>\n",
              "      <td>0.9363</td>\n",
              "      <td>0.07</td>\n",
              "      <td>0.7376</td>\n",
              "      <td>0.3</td>\n",
              "      <td>0.8555</td>\n",
              "      <td>0.15</td>\n",
              "      <td>0.9019</td>\n",
              "      <td>0.07</td>\n",
              "      <td>0.7573</td>\n",
              "      <td>0.1819</td>\n",
              "      <td>0.8516</td>\n",
              "      <td>0.13</td>\n",
              "    </tr>\n",
              "  </tbody>\n",
              "</table>\n",
              "</div>"
            ],
            "text/plain": [
              "  Unnamed: 0 Max Difference  ... Unnamed: 17 Unnamed: 18\n",
              "0    patient    channel num  ...      NN_ACC      NN_FPR\n",
              "1          1              0  ...      0.7013        0.29\n",
              "2          2              6  ...      0.7726        0.25\n",
              "3          3             12  ...      0.7546        0.25\n",
              "4          4              3  ...      0.8516        0.13\n",
              "\n",
              "[5 rows x 19 columns]"
            ]
          },
          "metadata": {
            "tags": []
          },
          "execution_count": 18
        }
      ]
    },
    {
      "cell_type": "code",
      "metadata": {
        "id": "eqfH9JFhitAr"
      },
      "source": [
        "#from results.csv\n",
        "PATIENT_NUM = 1\n",
        "opt_rf = float (results['Unnamed: 8'][PATIENT_NUM])\n",
        "min_rf = float (results['Unnamed: 14'][PATIENT_NUM])\n",
        "opt_svm = float (results['Unnamed: 10'][PATIENT_NUM])\n",
        "min_svm = float (results['Unnamed: 16'][PATIENT_NUM])\n",
        "opt_nn = float (results['Unnamed: 12'][PATIENT_NUM])\n",
        "min_nn = float (results['Unnamed: 18'][PATIENT_NUM])"
      ],
      "execution_count": null,
      "outputs": []
    },
    {
      "cell_type": "code",
      "metadata": {
        "id": "2uiGiTD7vojV"
      },
      "source": [
        "def create_plots(PATIENT_NUM):\n",
        "  opt_rf = float (results['Unnamed: 8'][PATIENT_NUM])\n",
        "  min_rf = float (results['Unnamed: 14'][PATIENT_NUM])\n",
        "  opt_svm = float (results['Unnamed: 10'][PATIENT_NUM])\n",
        "  min_svm = float (results['Unnamed: 16'][PATIENT_NUM])\n",
        "  opt_nn = float (results['Unnamed: 12'][PATIENT_NUM])\n",
        "  min_nn = float (results['Unnamed: 18'][PATIENT_NUM])\n",
        "\n",
        "  bar_width = 0.25\n",
        "  fpr_opt = [opt_rf, opt_svm, opt_nn]\n",
        "  fpr_min = [min_rf, min_svm, min_nn]\n",
        "\n",
        "  x_opt = [1, 2, 3]\n",
        "  x_min = [x + bar_width for x in x_opt]\n",
        "\n",
        "  plt.figure(figsize = (12, 7))\n",
        "  plt.bar(x_opt, fpr_opt, color='green', width = bar_width, label = \"optimized\")\n",
        "  plt.bar(x_min, fpr_min, color = 'orange', width = bar_width, label = \"random\")\n",
        "\n",
        "  for i, v in enumerate(fpr_opt):\n",
        "    plt.text((i+1) - 0.05, v+0.005, str(v))\n",
        "  for i, v in enumerate(fpr_min):\n",
        "    plt.text((i+1 + 0.25) - 0.05, v+0.005, str(v))\n",
        "\n",
        "  plt.legend()\n",
        "  plt.title(f'Performance(False positive rate) for patient {PATIENT_NUM}')\n",
        "  plt.xticks([(x+bar_width/2) for x in x_opt],['RF', 'SVM', 'NN'])\n",
        "  plt.xlabel('Model')\n",
        "  plt.ylabel('FPR')\n",
        "  plt.savefig(f'fpr_plot_{PATIENT_NUM}.png', bbox_inches = \"tight\")\n",
        "  plt.show()"
      ],
      "execution_count": null,
      "outputs": []
    },
    {
      "cell_type": "code",
      "metadata": {
        "id": "KnkD_sVzwnte"
      },
      "source": [
        "for i in range(1, 24, 1):\n",
        "  create_plots(i)"
      ],
      "execution_count": null,
      "outputs": []
    },
    {
      "cell_type": "code",
      "metadata": {
        "id": "QH9N-NkQw-EP"
      },
      "source": [
        "plot_dir = \"/content/drive/My Drive/chb_dataset/stat_approach/perf_plots/\"\n",
        "for i in range(1, 24, 1):\n",
        "  sp.call(['mv', f'fpr_plot_{i}.png', plot_dir+f'fpr_plot_{i}.png'])"
      ],
      "execution_count": null,
      "outputs": []
    }
  ]
}