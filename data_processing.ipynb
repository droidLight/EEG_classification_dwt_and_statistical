{
  "nbformat": 4,
  "nbformat_minor": 0,
  "metadata": {
    "colab": {
      "name": "data_processing.ipynb",
      "provenance": [],
      "collapsed_sections": [],
      "machine_shape": "hm"
    },
    "kernelspec": {
      "name": "python3",
      "display_name": "Python 3"
    }
  },
  "cells": [
    {
      "cell_type": "code",
      "metadata": {
        "id": "Lq9yp7XJMOy9",
        "colab": {
          "base_uri": "https://localhost:8080/"
        },
        "outputId": "eeb6e8de-a67a-4257-87c1-1fb96c47f731"
      },
      "source": [
        "!pip install pyedflib"
      ],
      "execution_count": null,
      "outputs": [
        {
          "output_type": "stream",
          "text": [
            "Collecting pyedflib\n",
            "\u001b[?25l  Downloading https://files.pythonhosted.org/packages/68/1d/f10ea5017a47398fda885c3c313973cf032c19fd6eb773d8e5b816ac3efc/pyEDFlib-0.1.19.tar.gz (1.2MB)\n",
            "\r\u001b[K     |▎                               | 10kB 15.7MB/s eta 0:00:01\r\u001b[K     |▌                               | 20kB 21.7MB/s eta 0:00:01\r\u001b[K     |▉                               | 30kB 12.6MB/s eta 0:00:01\r\u001b[K     |█                               | 40kB 9.1MB/s eta 0:00:01\r\u001b[K     |█▎                              | 51kB 4.4MB/s eta 0:00:01\r\u001b[K     |█▋                              | 61kB 4.9MB/s eta 0:00:01\r\u001b[K     |█▉                              | 71kB 5.1MB/s eta 0:00:01\r\u001b[K     |██                              | 81kB 5.4MB/s eta 0:00:01\r\u001b[K     |██▍                             | 92kB 5.8MB/s eta 0:00:01\r\u001b[K     |██▋                             | 102kB 5.9MB/s eta 0:00:01\r\u001b[K     |███                             | 112kB 5.9MB/s eta 0:00:01\r\u001b[K     |███▏                            | 122kB 5.9MB/s eta 0:00:01\r\u001b[K     |███▍                            | 133kB 5.9MB/s eta 0:00:01\r\u001b[K     |███▊                            | 143kB 5.9MB/s eta 0:00:01\r\u001b[K     |████                            | 153kB 5.9MB/s eta 0:00:01\r\u001b[K     |████▏                           | 163kB 5.9MB/s eta 0:00:01\r\u001b[K     |████▌                           | 174kB 5.9MB/s eta 0:00:01\r\u001b[K     |████▊                           | 184kB 5.9MB/s eta 0:00:01\r\u001b[K     |█████                           | 194kB 5.9MB/s eta 0:00:01\r\u001b[K     |█████▎                          | 204kB 5.9MB/s eta 0:00:01\r\u001b[K     |█████▌                          | 215kB 5.9MB/s eta 0:00:01\r\u001b[K     |█████▉                          | 225kB 5.9MB/s eta 0:00:01\r\u001b[K     |██████                          | 235kB 5.9MB/s eta 0:00:01\r\u001b[K     |██████▎                         | 245kB 5.9MB/s eta 0:00:01\r\u001b[K     |██████▋                         | 256kB 5.9MB/s eta 0:00:01\r\u001b[K     |██████▉                         | 266kB 5.9MB/s eta 0:00:01\r\u001b[K     |███████                         | 276kB 5.9MB/s eta 0:00:01\r\u001b[K     |███████▍                        | 286kB 5.9MB/s eta 0:00:01\r\u001b[K     |███████▋                        | 296kB 5.9MB/s eta 0:00:01\r\u001b[K     |███████▉                        | 307kB 5.9MB/s eta 0:00:01\r\u001b[K     |████████▏                       | 317kB 5.9MB/s eta 0:00:01\r\u001b[K     |████████▍                       | 327kB 5.9MB/s eta 0:00:01\r\u001b[K     |████████▊                       | 337kB 5.9MB/s eta 0:00:01\r\u001b[K     |█████████                       | 348kB 5.9MB/s eta 0:00:01\r\u001b[K     |█████████▏                      | 358kB 5.9MB/s eta 0:00:01\r\u001b[K     |█████████▌                      | 368kB 5.9MB/s eta 0:00:01\r\u001b[K     |█████████▊                      | 378kB 5.9MB/s eta 0:00:01\r\u001b[K     |██████████                      | 389kB 5.9MB/s eta 0:00:01\r\u001b[K     |██████████▎                     | 399kB 5.9MB/s eta 0:00:01\r\u001b[K     |██████████▌                     | 409kB 5.9MB/s eta 0:00:01\r\u001b[K     |██████████▊                     | 419kB 5.9MB/s eta 0:00:01\r\u001b[K     |███████████                     | 430kB 5.9MB/s eta 0:00:01\r\u001b[K     |███████████▎                    | 440kB 5.9MB/s eta 0:00:01\r\u001b[K     |███████████▋                    | 450kB 5.9MB/s eta 0:00:01\r\u001b[K     |███████████▉                    | 460kB 5.9MB/s eta 0:00:01\r\u001b[K     |████████████                    | 471kB 5.9MB/s eta 0:00:01\r\u001b[K     |████████████▍                   | 481kB 5.9MB/s eta 0:00:01\r\u001b[K     |████████████▋                   | 491kB 5.9MB/s eta 0:00:01\r\u001b[K     |████████████▉                   | 501kB 5.9MB/s eta 0:00:01\r\u001b[K     |█████████████▏                  | 512kB 5.9MB/s eta 0:00:01\r\u001b[K     |█████████████▍                  | 522kB 5.9MB/s eta 0:00:01\r\u001b[K     |█████████████▋                  | 532kB 5.9MB/s eta 0:00:01\r\u001b[K     |██████████████                  | 542kB 5.9MB/s eta 0:00:01\r\u001b[K     |██████████████▏                 | 552kB 5.9MB/s eta 0:00:01\r\u001b[K     |██████████████▌                 | 563kB 5.9MB/s eta 0:00:01\r\u001b[K     |██████████████▊                 | 573kB 5.9MB/s eta 0:00:01\r\u001b[K     |███████████████                 | 583kB 5.9MB/s eta 0:00:01\r\u001b[K     |███████████████▎                | 593kB 5.9MB/s eta 0:00:01\r\u001b[K     |███████████████▌                | 604kB 5.9MB/s eta 0:00:01\r\u001b[K     |███████████████▊                | 614kB 5.9MB/s eta 0:00:01\r\u001b[K     |████████████████                | 624kB 5.9MB/s eta 0:00:01\r\u001b[K     |████████████████▎               | 634kB 5.9MB/s eta 0:00:01\r\u001b[K     |████████████████▋               | 645kB 5.9MB/s eta 0:00:01\r\u001b[K     |████████████████▉               | 655kB 5.9MB/s eta 0:00:01\r\u001b[K     |█████████████████               | 665kB 5.9MB/s eta 0:00:01\r\u001b[K     |█████████████████▍              | 675kB 5.9MB/s eta 0:00:01\r\u001b[K     |█████████████████▋              | 686kB 5.9MB/s eta 0:00:01\r\u001b[K     |█████████████████▉              | 696kB 5.9MB/s eta 0:00:01\r\u001b[K     |██████████████████▏             | 706kB 5.9MB/s eta 0:00:01\r\u001b[K     |██████████████████▍             | 716kB 5.9MB/s eta 0:00:01\r\u001b[K     |██████████████████▋             | 727kB 5.9MB/s eta 0:00:01\r\u001b[K     |███████████████████             | 737kB 5.9MB/s eta 0:00:01\r\u001b[K     |███████████████████▏            | 747kB 5.9MB/s eta 0:00:01\r\u001b[K     |███████████████████▌            | 757kB 5.9MB/s eta 0:00:01\r\u001b[K     |███████████████████▊            | 768kB 5.9MB/s eta 0:00:01\r\u001b[K     |████████████████████            | 778kB 5.9MB/s eta 0:00:01\r\u001b[K     |████████████████████▎           | 788kB 5.9MB/s eta 0:00:01\r\u001b[K     |████████████████████▌           | 798kB 5.9MB/s eta 0:00:01\r\u001b[K     |████████████████████▊           | 808kB 5.9MB/s eta 0:00:01\r\u001b[K     |█████████████████████           | 819kB 5.9MB/s eta 0:00:01\r\u001b[K     |█████████████████████▎          | 829kB 5.9MB/s eta 0:00:01\r\u001b[K     |█████████████████████▌          | 839kB 5.9MB/s eta 0:00:01\r\u001b[K     |█████████████████████▉          | 849kB 5.9MB/s eta 0:00:01\r\u001b[K     |██████████████████████          | 860kB 5.9MB/s eta 0:00:01\r\u001b[K     |██████████████████████▍         | 870kB 5.9MB/s eta 0:00:01\r\u001b[K     |██████████████████████▋         | 880kB 5.9MB/s eta 0:00:01\r\u001b[K     |██████████████████████▉         | 890kB 5.9MB/s eta 0:00:01\r\u001b[K     |███████████████████████▏        | 901kB 5.9MB/s eta 0:00:01\r\u001b[K     |███████████████████████▍        | 911kB 5.9MB/s eta 0:00:01\r\u001b[K     |███████████████████████▋        | 921kB 5.9MB/s eta 0:00:01\r\u001b[K     |████████████████████████        | 931kB 5.9MB/s eta 0:00:01\r\u001b[K     |████████████████████████▏       | 942kB 5.9MB/s eta 0:00:01\r\u001b[K     |████████████████████████▍       | 952kB 5.9MB/s eta 0:00:01\r\u001b[K     |████████████████████████▊       | 962kB 5.9MB/s eta 0:00:01\r\u001b[K     |█████████████████████████       | 972kB 5.9MB/s eta 0:00:01\r\u001b[K     |█████████████████████████▎      | 983kB 5.9MB/s eta 0:00:01\r\u001b[K     |█████████████████████████▌      | 993kB 5.9MB/s eta 0:00:01\r\u001b[K     |█████████████████████████▊      | 1.0MB 5.9MB/s eta 0:00:01\r\u001b[K     |██████████████████████████      | 1.0MB 5.9MB/s eta 0:00:01\r\u001b[K     |██████████████████████████▎     | 1.0MB 5.9MB/s eta 0:00:01\r\u001b[K     |██████████████████████████▌     | 1.0MB 5.9MB/s eta 0:00:01\r\u001b[K     |██████████████████████████▉     | 1.0MB 5.9MB/s eta 0:00:01\r\u001b[K     |███████████████████████████     | 1.1MB 5.9MB/s eta 0:00:01\r\u001b[K     |███████████████████████████▎    | 1.1MB 5.9MB/s eta 0:00:01\r\u001b[K     |███████████████████████████▋    | 1.1MB 5.9MB/s eta 0:00:01\r\u001b[K     |███████████████████████████▉    | 1.1MB 5.9MB/s eta 0:00:01\r\u001b[K     |████████████████████████████▏   | 1.1MB 5.9MB/s eta 0:00:01\r\u001b[K     |████████████████████████████▍   | 1.1MB 5.9MB/s eta 0:00:01\r\u001b[K     |████████████████████████████▋   | 1.1MB 5.9MB/s eta 0:00:01\r\u001b[K     |█████████████████████████████   | 1.1MB 5.9MB/s eta 0:00:01\r\u001b[K     |█████████████████████████████▏  | 1.1MB 5.9MB/s eta 0:00:01\r\u001b[K     |█████████████████████████████▍  | 1.1MB 5.9MB/s eta 0:00:01\r\u001b[K     |█████████████████████████████▊  | 1.2MB 5.9MB/s eta 0:00:01\r\u001b[K     |██████████████████████████████  | 1.2MB 5.9MB/s eta 0:00:01\r\u001b[K     |██████████████████████████████▎ | 1.2MB 5.9MB/s eta 0:00:01\r\u001b[K     |██████████████████████████████▌ | 1.2MB 5.9MB/s eta 0:00:01\r\u001b[K     |██████████████████████████████▊ | 1.2MB 5.9MB/s eta 0:00:01\r\u001b[K     |███████████████████████████████ | 1.2MB 5.9MB/s eta 0:00:01\r\u001b[K     |███████████████████████████████▎| 1.2MB 5.9MB/s eta 0:00:01\r\u001b[K     |███████████████████████████████▌| 1.2MB 5.9MB/s eta 0:00:01\r\u001b[K     |███████████████████████████████▉| 1.2MB 5.9MB/s eta 0:00:01\r\u001b[K     |████████████████████████████████| 1.2MB 5.9MB/s \n",
            "\u001b[?25h  Installing build dependencies ... \u001b[?25l\u001b[?25hdone\n",
            "  Getting requirements to build wheel ... \u001b[?25l\u001b[?25hdone\n",
            "    Preparing wheel metadata ... \u001b[?25l\u001b[?25hdone\n",
            "Requirement already satisfied: numpy>=1.9.1 in /usr/local/lib/python3.6/dist-packages (from pyedflib) (1.18.5)\n",
            "Building wheels for collected packages: pyedflib\n",
            "  Building wheel for pyedflib (PEP 517) ... \u001b[?25l\u001b[?25hdone\n",
            "  Created wheel for pyedflib: filename=pyEDFlib-0.1.19-cp36-cp36m-linux_x86_64.whl size=925679 sha256=035f4ccbaf28bd831f6fb8cba282eaae15e63ea4baf7d6e9ba8617244e32bb36\n",
            "  Stored in directory: /root/.cache/pip/wheels/1f/b7/24/a565e4f7471617165f1b040651b52d87ad1885aaf32e02d4f9\n",
            "Successfully built pyedflib\n",
            "Installing collected packages: pyedflib\n",
            "Successfully installed pyedflib-0.1.19\n"
          ],
          "name": "stdout"
        }
      ]
    },
    {
      "cell_type": "code",
      "metadata": {
        "id": "fuvKQ5QA4jpq"
      },
      "source": [
        "import pyedflib as edf\n",
        "import numpy as np\n",
        "import pandas as pd\n",
        "import pywt\n",
        "from sklearn.utils import shuffle\n",
        "from matplotlib import pyplot as plt\n",
        "import subprocess as sp\n",
        "import os"
      ],
      "execution_count": null,
      "outputs": []
    },
    {
      "cell_type": "code",
      "metadata": {
        "id": "rF3t9y2J-ggm",
        "colab": {
          "base_uri": "https://localhost:8080/"
        },
        "outputId": "160a6296-8876-42e3-9bb4-91483195a026"
      },
      "source": [
        "from google.colab import drive\n",
        "drive.mount('/content/drive')\n",
        "drive_path = '/content/drive/My Drive/chb_dataset/'\n",
        "raw_data_path = \"/content/raw_data/\"\n",
        "result_data_path = drive_path + \"processed_data/\"\n",
        "\n",
        "if not os.path.exists(raw_data_path):\n",
        "  os.mkdir(raw_data_path)"
      ],
      "execution_count": null,
      "outputs": [
        {
          "output_type": "stream",
          "text": [
            "Mounted at /content/drive\n"
          ],
          "name": "stdout"
        }
      ]
    },
    {
      "cell_type": "code",
      "metadata": {
        "id": "tBSfRDiXjpGI"
      },
      "source": [
        "# use the linux command 'mv' to move files from colab storage to your drive"
      ],
      "execution_count": null,
      "outputs": []
    },
    {
      "cell_type": "code",
      "metadata": {
        "id": "Z3s6G1t5uwxL"
      },
      "source": [
        "#for downloading files\n",
        "def download_files(patient_num, file_num_list):\n",
        "  for file_num in file_num_list:\n",
        "    file_name = f'chb{str(patient_num).zfill(2)}_{str(file_num).zfill(2)}.edf'\n",
        "    #file_name = f'chb{patient_num}b_{file_num}.edf'#only for patient 17\n",
        "    url = f'https://physionet.org/static/published-projects/chbmit/1.0.0/chb{str(patient_num).zfill(2)}/'+file_name\n",
        "    response_code = sp.call(['wget', url])\n",
        "    if(response_code != 0):\n",
        "      print(file_name+\"  Not found\")\n",
        "    dest_path = raw_data_path + file_name\n",
        "    response_code = sp.call(['mv', file_name, dest_path])\n",
        "    if(response_code == 0):\n",
        "      print(\"Downloaded \"+file_name)"
      ],
      "execution_count": null,
      "outputs": []
    },
    {
      "cell_type": "markdown",
      "metadata": {
        "id": "tAVBAEvsFwAE"
      },
      "source": [
        "Data processing using 18 channels"
      ]
    },
    {
      "cell_type": "code",
      "metadata": {
        "id": "aTqUqF6g0MQ1"
      },
      "source": [
        "#function to join two files\n",
        "def join_data(file_one, file_two):\n",
        "    file_one = edf.EdfReader(raw_data_path + file_one)\n",
        "    file_two = edf.EdfReader(raw_data_path + file_two)\n",
        "\n",
        "    file_one_max, file_one_min = file_one.getPhysicalMaximum(), file_one.getPhysicalMinimum()\n",
        "    file_two_max, file_two_min = file_two.getPhysicalMaximum(), file_two.getPhysicalMinimum()\n",
        "\n",
        "    joined_channels = list()\n",
        "    for i in range(18):\n",
        "      partOne = (file_one.readSignal(i) - file_one_min[i]) / (file_one_max[i] - file_one_min[i])\n",
        "      partTwo = (file_two.readSignal(i) - file_two_min[i]) / (file_two_max[i] - file_two_min[i])\n",
        "      joined = np.concatenate((partOne, partTwo))\n",
        "      joined_channels.append(joined)\n",
        "    joined_channels = np.array(joined_channels)\n",
        "    return joined_channels"
      ],
      "execution_count": null,
      "outputs": []
    },
    {
      "cell_type": "code",
      "metadata": {
        "id": "mCKufv1XFfyC"
      },
      "source": [
        "#create data using 18 channels\n",
        "def process_data(file_list, start_times, preictal_filename, interictal_filename):\n",
        "    preictal_data, interictal_data = list(), list()\n",
        "    preictal_window = interictal_window = PREICTAL_INTERVAL_IN_MINS * 60 * 256\n",
        "\n",
        "    for file, start_time in zip(file_list, start_times):\n",
        "        print(f\"Processing file: {file}\")\n",
        "        inter_raw_data = edf.EdfReader(raw_data_path + file[0])\n",
        "        if type(file[1]) == list:\n",
        "            pre_data = join_data(file[1][0], file[1][1])\n",
        "        else:\n",
        "            pre_raw_data = edf.EdfReader(raw_data_path + file[1])\n",
        "            pre_data = np.array([pre_raw_data.readSignal(i) for i in range(18)])\n",
        "            \n",
        "            #normalize pre_data\n",
        "            max_value = np.array(pre_raw_data.getPhysicalMaximum()[0:18]).reshape(-1, 1)\n",
        "            min_value = np.array(pre_raw_data.getPhysicalMinimum()[0:18]).reshape(-1, 1)\n",
        "            pre_data = (pre_data - min_value) / (max_value - min_value)\n",
        "\n",
        "            pre_raw_data._close()\n",
        "            del pre_raw_data\n",
        "\n",
        "        inter_data = np.array([inter_raw_data.readSignal(i) for i in range(18)])\n",
        "\n",
        "        #normalize inter_data\n",
        "        max_value = np.array(inter_raw_data.getPhysicalMaximum()[0:18]).reshape(-1, 1)\n",
        "        min_value = np.array(inter_raw_data.getPhysicalMinimum()[0:18]).reshape(-1, 1)\n",
        "        inter_data = (inter_data - min_value) / (max_value - min_value)\n",
        "\n",
        "        inter_raw_data._close()\n",
        "        del inter_raw_data\n",
        "        \n",
        "        pre_data = pre_data[:, 0:start_time[1] * 256]\n",
        "        \n",
        "        preictal_start = pre_data.shape[1] - preictal_window\n",
        "        print(f\"preictal start: {preictal_start}\")\n",
        "        interictal_start = np.random.random_integers(low = 0, high = inter_data.shape[1] - interictal_window)\n",
        "        interictal_end = interictal_start + interictal_window\n",
        "\n",
        "        preictal = pre_data[:, preictal_start:]\n",
        "        interictal = inter_data[:, interictal_start : interictal_end]\n",
        "        preictal_data.append(preictal)\n",
        "        interictal_data.append(interictal)\n",
        "\n",
        "    pre_data, inter_data  = np.array(preictal_data), np.array(interictal_data)\n",
        "    print(f\"Preictal File shape: {pre_data.shape}\")\n",
        "    print(f\"Interictal File shape: {inter_data.shape}\")\n",
        "    \n",
        "    np.save(result_data_path + preictal_filename, pre_data)\n",
        "    print(f\"Saved {preictal_filename}\")\n",
        "    np.save(result_data_path + interictal_filename, inter_data)\n",
        "    print(f\"Saved {interictal_filename}\")"
      ],
      "execution_count": null,
      "outputs": []
    },
    {
      "cell_type": "markdown",
      "metadata": {
        "id": "SdDnuXyvW9bP"
      },
      "source": [
        "patient 1"
      ]
    },
    {
      "cell_type": "code",
      "metadata": {
        "id": "7IftYiGYFoEZ"
      },
      "source": [
        "data = [('chb01_02.edf', 'chb01_03.edf'), \n",
        "        ('chb01_05.edf', ['chb01_03.edf','chb01_04.edf']), \n",
        "        ('chb01_12.edf', ['chb01_14.edf','chb01_15.edf']), \n",
        "        ('chb01_17.edf', ['chb01_15.edf', 'chb01_16.edf']), \n",
        "        ('chb01_22.edf', ['chb01_17.edf','chb01_18.edf']),\n",
        "        ('chb01_25.edf', ['chb01_20.edf', 'chb01_21.edf'])]\n",
        "\n",
        "start_times = [(0, 2996), \n",
        "               (0, 1467 + 3600), \n",
        "               (0, 1732 + 3600), \n",
        "               (0, 1015 + 3600), \n",
        "               (0, 1720 + 3600), \n",
        "               (0, 327 + 3600)]\n",
        "\n",
        "PREICTAL_INTERVAL_IN_MINS = 30\n",
        "PATIENT_NUM = 1\n",
        "\n",
        "file_list = [2, 3, 4, 5, 12, 14, 15, 16, 17, 18, 20, 21, 22, 25]\n",
        "download_files(PATIENT_NUM, file_list)\n",
        "\n",
        "interictal_name = f\"patient_{PATIENT_NUM}_inter_interval_{PREICTAL_INTERVAL_IN_MINS}.npy\"\n",
        "preictal_name = f\"patient_{PATIENT_NUM}_pre_interval_{PREICTAL_INTERVAL_IN_MINS}.npy\"\n",
        "process_data(data, start_times, preictal_name, interictal_name)"
      ],
      "execution_count": null,
      "outputs": []
    },
    {
      "cell_type": "markdown",
      "metadata": {
        "id": "xc6mlLB9XARU"
      },
      "source": [
        "patient 2"
      ]
    },
    {
      "cell_type": "code",
      "metadata": {
        "id": "kIAtFEIiVjpI"
      },
      "source": [
        "data = [('chb02_01.edf', ['chb02_15.edf', 'chb02_16.edf']), \n",
        "        ('chb02_17.edf', 'chb02_16+.edf'),\n",
        "        ('chb02_20.edf', 'chb02_19.edf')]\n",
        "\n",
        "start_times = [(0, 3600 + 130), \n",
        "               (0, 2972),\n",
        "               (0, 3369)]\n",
        "\n",
        "PREICTAL_INTERVAL_IN_MINS = 30\n",
        "PATIENT_NUM = 2\n",
        "\n",
        "file_list = ['1', '15', '16', '16+', '17', '19', '20']\n",
        "download_files(PATIENT_NUM, file_list)\n",
        "\n",
        "interictal_name = f\"patient_{PATIENT_NUM}_inter_interval_{PREICTAL_INTERVAL_IN_MINS}.npy\"\n",
        "preictal_name = f\"patient_{PATIENT_NUM}_pre_interval_{PREICTAL_INTERVAL_IN_MINS}.npy\"\n",
        "process_data(data, start_times, preictal_name, interictal_name)"
      ],
      "execution_count": null,
      "outputs": []
    },
    {
      "cell_type": "markdown",
      "metadata": {
        "id": "wJ0ee15oXEJV"
      },
      "source": [
        "patient 3"
      ]
    },
    {
      "cell_type": "code",
      "metadata": {
        "id": "_Ek22RN_WpQ5"
      },
      "source": [
        "data = [('chb03_06.edf', ['chb03_02.edf', 'chb03_03.edf']), \n",
        "        ('chb03_20.edf', 'chb03_04.edf'),\n",
        "        ('chb03_33.edf', 'chb03_34.edf'),\n",
        "        ('chb03_37.edf', 'chb03_35.edf'),\n",
        "        ('chb03_38.edf', ['chb03_35.edf','chb03_36.edf'])]\n",
        "\n",
        "start_times = [(0, 3600 + 432),\n",
        "               (0, 2162), \n",
        "               (0, 1982),\n",
        "               (0, 2592),\n",
        "               (0, 3600 + 1725)]\n",
        "\n",
        "file_list = [2, 3, 4, 6, 20, 33 ,34, 35, 36, 37, 38]\n",
        "PATIENT_NUM = 3\n",
        "PREICTAL_INTERVAL_IN_MINS = 20\n",
        "\n",
        "#download_files(PATIENT_NUM, file_list)\n",
        "\n",
        "interictal_name = f\"patient_{PATIENT_NUM}_inter_interval_{PREICTAL_INTERVAL_IN_MINS}.npy\"\n",
        "preictal_name = f\"patient_{PATIENT_NUM}_pre_interval_{PREICTAL_INTERVAL_IN_MINS}.npy\"\n",
        "process_data(data, start_times, preictal_name, interictal_name)"
      ],
      "execution_count": null,
      "outputs": []
    },
    {
      "cell_type": "markdown",
      "metadata": {
        "id": "uvns3H1xq99X"
      },
      "source": [
        "patient 4"
      ]
    },
    {
      "cell_type": "code",
      "metadata": {
        "id": "3duOJsQv-iiq"
      },
      "source": [
        "data = [('chb04_01.edf', 'chb04_05.edf'),\n",
        "        ('chb04_07.edf', 'chb04_08.edf'),\n",
        "        ('chb04_34.edf', ['chb04_27.edf','chb04_28.edf']),\n",
        "        ('chb04_25.edf', 'chb04_28.edf')\n",
        "        ]\n",
        "\n",
        "start_times = [(0, 7804),\n",
        "               (0, 6446),\n",
        "               (0, 1679+1781),\n",
        "               (0, 3782)]\n",
        "\n",
        "file_list = [1, 5, 7, 8, 34, 27,  28, 25]\n",
        "\n",
        "PATIENT_NUM = 4\n",
        "PREICTAL_INTERVAL_IN_MINS = 30\n",
        "\n",
        "#download_files(PATIENT_NUM, file_list)\n",
        "\n",
        "interictal_name = f\"patient_{PATIENT_NUM}_inter_interval_{PREICTAL_INTERVAL_IN_MINS}.npy\"\n",
        "preictal_name = f\"patient_{PATIENT_NUM}_pre_interval_{PREICTAL_INTERVAL_IN_MINS}.npy\"\n",
        "process_data(data, start_times, preictal_name, interictal_name)"
      ],
      "execution_count": null,
      "outputs": []
    },
    {
      "cell_type": "markdown",
      "metadata": {
        "id": "YWsfreZL2qrI"
      },
      "source": [
        "patient 5"
      ]
    },
    {
      "cell_type": "code",
      "metadata": {
        "id": "rXy_EZJytzvH"
      },
      "source": [
        "\n",
        "data = [('chb05_01.edf', ['chb05_05.edf', 'chb05_06.edf']),\n",
        "        ('chb05_27.edf', ['chb05_12.edf', 'chb05_13.edf']),\n",
        "        ('chb05_14.edf', 'chb05_16.edf'),\n",
        "        ('chb05_02.edf', 'chb05_17.edf'),\n",
        "        ('chb05_10.edf', 'chb05_22.edf')\n",
        "        ]\n",
        "\n",
        "start_times = [(0, 3600+417),\n",
        "               (0, 3600+1086),\n",
        "               (0, 2317),\n",
        "               (0, 2451),\n",
        "               (0, 2348)]\n",
        "file_list = [1, 5, 6, 27, 12, 13, 14, 16, 2, 17, 10, 22]\n",
        "\n",
        "PREICTAL_INTERVAL_IN_MINS = 30\n",
        "PATIENT_NUM = 5\n",
        "\n",
        "download_files(PATIENT_NUM, file_list)\n",
        "\n",
        "interictal_name = f\"patient_{PATIENT_NUM}_inter_interval_{PREICTAL_INTERVAL_IN_MINS}.npy\"\n",
        "preictal_name = f\"patient_{PATIENT_NUM}_pre_interval_{PREICTAL_INTERVAL_IN_MINS}.npy\"\n",
        "process_data(data, start_times, preictal_name, interictal_name)"
      ],
      "execution_count": null,
      "outputs": []
    },
    {
      "cell_type": "markdown",
      "metadata": {
        "id": "lqtuWCzY2mjC"
      },
      "source": [
        "patient 6"
      ]
    },
    {
      "cell_type": "code",
      "metadata": {
        "id": "BEavSPuG0dXu"
      },
      "source": [
        "data = [('chb06_02.edf', 'chb06_01.edf'),\n",
        "        ('chb06_03.edf','chb06_01.edf'),\n",
        "        ('chb06_07.edf', 'chb06_04.edf'),\n",
        "        ('chb06_16.edf', 'chb06_09.edf'),\n",
        "        ('chb06_15.edf', 'chb06_10.edf'),\n",
        "        ('chb06_17.edf', ['chb06_12.edf', 'chb06_13.edf']),\n",
        "        ('chb06_08.edf', 'chb06_18.edf'),\n",
        "        ('chb06_14.edf', 'chb06_24.edf')]\n",
        "\n",
        "start_times = [(0, 7461),\n",
        "               (0, 13525),\n",
        "               (0, 6211),\n",
        "               (0, 12500),\n",
        "               (0, 10833),\n",
        "               (0, 3600+506),\n",
        "               (0, 7799),\n",
        "               (0, 9387)]\n",
        "\n",
        "file_list = [1, 2, 3, 4, 7, 8, 9, 10, 12, 13, 14, 15, 16, 17, 18, 24]\n",
        "\n",
        "PREICTAL_INTERVAL_IN_MINS = 20\n",
        "PATIENT_NUM = 6\n",
        "\n",
        "download_files(PATIENT_NUM, file_list)\n",
        "\n",
        "interictal_name = f\"patient_{PATIENT_NUM}_inter_interval_{PREICTAL_INTERVAL_IN_MINS}.npy\"\n",
        "preictal_name = f\"patient_{PATIENT_NUM}_pre_interval_{PREICTAL_INTERVAL_IN_MINS}.npy\"\n",
        "process_data(data, start_times, preictal_name, interictal_name)"
      ],
      "execution_count": null,
      "outputs": []
    },
    {
      "cell_type": "markdown",
      "metadata": {
        "id": "q2UvFKs8I3Ap"
      },
      "source": [
        "patient 7"
      ]
    },
    {
      "cell_type": "code",
      "metadata": {
        "id": "j7Nn9Y-k-7Sj"
      },
      "source": [
        "data = [('chb07_01.edf','chb07_12.edf'),\n",
        "        ('chb07_10.edf', 'chb07_13.edf'),\n",
        "        ('chb07_18.edf', 'chb07_19.edf')]\n",
        "\n",
        "start_times = [(0, 4920),\n",
        "               (0, 3285),\n",
        "               (0, 13668)]\n",
        "\n",
        "file_list = [1, 10, 12, 13, 18, 19]\n",
        "\n",
        "PATIENT_NUM = 7\n",
        "PREICTAL_INTERVAL_IN_MINS = 30\n",
        "\n",
        "download_files(PATIENT_NUM, file_list)\n",
        "\n",
        "interictal_name = f\"patient_{PATIENT_NUM}_inter_interval_{PREICTAL_INTERVAL_IN_MINS}.npy\"\n",
        "preictal_name = f\"patient_{PATIENT_NUM}_pre_interval_{PREICTAL_INTERVAL_IN_MINS}.npy\"\n",
        "process_data(data, start_times, preictal_name, interictal_name)"
      ],
      "execution_count": null,
      "outputs": []
    },
    {
      "cell_type": "markdown",
      "metadata": {
        "id": "XKkfLoD7VeC-"
      },
      "source": [
        "patient 8"
      ]
    },
    {
      "cell_type": "code",
      "metadata": {
        "id": "0cXKbu72J25H"
      },
      "source": [
        "data = [('chb08_04.edf','chb08_02.edf'),\n",
        "        ('chb08_03.edf', 'chb08_05.edf'),\n",
        "        ('chb08_10.edf', 'chb08_11.edf'),\n",
        "        ('chb08_12.edf', 'chb08_13.edf'),\n",
        "        ('chb08_20.edf', 'chb08_21.edf')]\n",
        "\n",
        "start_times = [(0, 2670),\n",
        "               (0, 2856),\n",
        "               (0, 2988),\n",
        "               (0, 2417),\n",
        "               (0, 2083)]\n",
        "\n",
        "file_list = [2, 3, 4, 5, 10, 11, 12, 13, 20, 21]\n",
        "\n",
        "PREICTAL_INTERVAL_IN_MINS = 30\n",
        "PATIENT_NUM = 8\n",
        "\n",
        "download_files(PATIENT_NUM, file_list)\n",
        "\n",
        "interictal_name = f\"patient_{PATIENT_NUM}_inter_interval_{PREICTAL_INTERVAL_IN_MINS}.npy\"\n",
        "preictal_name = f\"patient_{PATIENT_NUM}_pre_interval_{PREICTAL_INTERVAL_IN_MINS}.npy\"\n",
        "process_data(data, start_times, preictal_name, interictal_name)"
      ],
      "execution_count": null,
      "outputs": []
    },
    {
      "cell_type": "markdown",
      "metadata": {
        "id": "gimtRz3vYcpe"
      },
      "source": [
        "patient 9"
      ]
    },
    {
      "cell_type": "code",
      "metadata": {
        "id": "Hyo6TKJKYAO7"
      },
      "source": [
        "data = [('chb09_05.edf','chb09_06.edf'),\n",
        "        ('chb09_07.edf', 'chb09_08.edf'),#1st seizure  in file \n",
        "        ('chb09_10.edf', 'chb09_08.edf'),#2nd seizure in file\n",
        "        ('chb09_18.edf', 'chb09_19.edf')]\n",
        "\n",
        "start_times = [(0, 12231),\n",
        "               (0, 2951),\n",
        "               (0, 9196),\n",
        "               (0, 5299)]\n",
        "\n",
        "file_list = [5, 6, 7, 8, 10, 18, 19]\n",
        "\n",
        "PREICTAL_INTERVAL_IN_MINS = 30\n",
        "PATIENT_NUM = 9\n",
        "\n",
        "download_files(PATIENT_NUM, file_list)\n",
        "\n",
        "interictal_name = f\"patient_{PATIENT_NUM}_inter_interval_{PREICTAL_INTERVAL_IN_MINS}.npy\"\n",
        "preictal_name = f\"patient_{PATIENT_NUM}_pre_interval_{PREICTAL_INTERVAL_IN_MINS}.npy\"\n",
        "process_data(data, start_times, preictal_name, interictal_name)"
      ],
      "execution_count": null,
      "outputs": []
    },
    {
      "cell_type": "markdown",
      "metadata": {
        "id": "sFkTyfb6aTUl"
      },
      "source": [
        "patient 10"
      ]
    },
    {
      "cell_type": "code",
      "metadata": {
        "id": "dnbrOQshaPTx"
      },
      "source": [
        "data = [('chb10_08.edf', 'chb10_12.edf'),\n",
        "        ('chb10_19.edf', 'chb10_20.edf'),\n",
        "        ('chb10_02.edf', 'chb10_27.edf'),\n",
        "        ('chb10_28.edf', 'chb10_30.edf'),\n",
        "        ('chb10_22.edf', 'chb10_31.edf'),\n",
        "        ('chb10_01.edf', 'chb10_38.edf')]\n",
        "\n",
        "start_times = [(0, 6313),\n",
        "               (0, 6888),\n",
        "               (0, 2381),\n",
        "               (0, 3021),\n",
        "               (0, 3801),\n",
        "               (0, 4618)]\n",
        "\n",
        "file_list = [1, 2, 8, 12, 19, 20, 22, 27, 28, 30, 31, 38]\n",
        "\n",
        "PREICTAL_INTERVAL_IN_MINS = 30\n",
        "PATIENT_NUM = 10\n",
        "\n",
        "download_files(PATIENT_NUM, file_list)\n",
        "\n",
        "interictal_name = f\"patient_{PATIENT_NUM}_inter_interval_{PREICTAL_INTERVAL_IN_MINS}.npy\"\n",
        "preictal_name = f\"patient_{PATIENT_NUM}_pre_interval_{PREICTAL_INTERVAL_IN_MINS}.npy\"\n",
        "process_data(data, start_times, preictal_name, interictal_name)"
      ],
      "execution_count": null,
      "outputs": []
    },
    {
      "cell_type": "markdown",
      "metadata": {
        "id": "2GpPCe_6SG9v"
      },
      "source": [
        "patient 11"
      ]
    },
    {
      "cell_type": "code",
      "metadata": {
        "id": "ycBBIGi6cmf0"
      },
      "source": [
        "\n",
        "data = [('chb11_01.edf', ['chb11_92.edf','chb11_99.edf']),\n",
        "        ('chb11_56.edf', 'chb11_92.edf'),\n",
        "        ('chb11_55.edf', ['chb11_63.edf','chb11_82.edf'])]\n",
        "\n",
        "start_times = [(0, 3600+1454),\n",
        "               (0, 2695),\n",
        "               (0, 3600+298)]\n",
        "\n",
        "PATIENT_NUM = 11\n",
        "PREICTAL_INTERVAL_IN_MINS = 30\n",
        "\n",
        "file_list = [1, 55, 56, 50, 63, 82, 92, 99]\n",
        "\n",
        "download_files(PATIENT_NUM, file_list)\n",
        "\n",
        "interictal_name = f\"patient_{PATIENT_NUM}_inter_interval_{PREICTAL_INTERVAL_IN_MINS}.npy\"\n",
        "preictal_name = f\"patient_{PATIENT_NUM}_pre_interval_{PREICTAL_INTERVAL_IN_MINS}.npy\"\n",
        "process_data(data, start_times, preictal_name, interictal_name)"
      ],
      "execution_count": null,
      "outputs": []
    },
    {
      "cell_type": "markdown",
      "metadata": {
        "id": "k_kPvjuUW-UU"
      },
      "source": [
        "patient 12"
      ]
    },
    {
      "cell_type": "code",
      "metadata": {
        "id": "uF7eZJL-W9zp"
      },
      "source": [
        "#some files not present\n",
        "data = [('chb12_24.edf', 'chb12_09.edf'),\n",
        "        ('chb12_34.edf', ['chb12_10.edf', 'chb12_11.edf']),\n",
        "        ('chb12_40.edf', ['chb12_21.edf', 'chb12_23.edf']),\n",
        "        ('chb12_32.edf', 'chb12_33.edf'),\n",
        "        ('chb12_20.edf', ['chb12_35.edf', 'chb12_36.edf']),\n",
        "        ('chb12_19.edf', ['chb12_37.edf', 'chb12_38.edf']),\n",
        "        ('chb12_39.edf', ['chb12_41.edf', 'chb12_42.edf'])]\n",
        "\n",
        "start_times = [(0, 3082),\n",
        "               (0, 3600 + 1085),\n",
        "               (0, 3600 + 253),\n",
        "               (0, 2185),\n",
        "               (0, 3600 + 653),\n",
        "               (0, 3600 + 1548),\n",
        "               (0, 3600 + 699)]\n",
        "\n",
        "PREICTAL_INTERVAL_IN_MINS = 30\n",
        "PATIENT_NUM = 12\n",
        "\n",
        "flie_list = [9, 10, 11, 19, 20, 21, 23, 24, 32, 33, 34, 35, 36, 37, 38, 40, 41, 42]\n",
        "\n",
        "download_files(PATIENT_NUM, file_list)\n",
        "\n",
        "interictal_name = f\"patient_{PATIENT_NUM}_inter_interval_{PREICTAL_INTERVAL_IN_MINS}.npy\"\n",
        "preictal_name = f\"patient_{PATIENT_NUM}_pre_interval_{PREICTAL_INTERVAL_IN_MINS}.npy\"\n",
        "process_data(data, start_times, preictal_name, interictal_name)"
      ],
      "execution_count": null,
      "outputs": []
    },
    {
      "cell_type": "markdown",
      "metadata": {
        "id": "bl0Lek_xcCqo"
      },
      "source": [
        "patient 13"
      ]
    },
    {
      "cell_type": "code",
      "metadata": {
        "id": "xVTvWY4DVtlE"
      },
      "source": [
        "data = [('chb13_15.edf','chb13_19.edf'),\n",
        "        ('chb13_16.edf', ['chb13_18.edf','chb13_21.edf']),\n",
        "        ('chb13_38.edf', ['chb13_39.edf','chb13_40.edf']),\n",
        "        ('chb13_47.edf', 'chb13_55.edf'),\n",
        "        ('chb13_13.edf', 'chb13_58.edf'),\n",
        "        ('chb13_12.edf', 'chb13_59.edf'),\n",
        "        ('chb13_11.edf', ['chb13_56.edf','chb13_60.edf'])]\n",
        "\n",
        "start_times = [(0, 2077),\n",
        "               (0, 3600 + 934),\n",
        "               (0, 3600 + 142),\n",
        "               (0, 2436),\n",
        "               (0, 2474),\n",
        "               (0, 3339),\n",
        "               (0, 3600 + 638)]\n",
        "\n",
        "PREICTAL_INTERVAL_IN_MINS = 30\n",
        "PATIENT_NUM = 13\n",
        "\n",
        "file_list = [11, 12, 13, 15, 16, 18, 19, 21, 38, 39, 40, 47, 55, 56, 58, 59, 60]\n",
        "\n",
        "download_files(PATIENT_NUM, file_list)\n",
        "\n",
        "interictal_name = f\"patient_{PATIENT_NUM}_inter_interval_{PREICTAL_INTERVAL_IN_MINS}.npy\"\n",
        "preictal_name = f\"patient_{PATIENT_NUM}_pre_interval_{PREICTAL_INTERVAL_IN_MINS}.npy\"\n",
        "process_data(data, start_times, preictal_name, interictal_name)"
      ],
      "execution_count": null,
      "outputs": []
    },
    {
      "cell_type": "markdown",
      "metadata": {
        "id": "t0tasoxeG6a2"
      },
      "source": [
        "patient 14"
      ]
    },
    {
      "cell_type": "code",
      "metadata": {
        "id": "CIAiFrb4jwdC"
      },
      "source": [
        "data = [('chb14_02.edf', 'chb14_03.edf'),\n",
        "        ('chb14_07.edf', ['chb14_01.edf','chb14_04.edf']),\n",
        "        ('chb14_13.edf', 'chb14_06.edf'),\n",
        "        ('chb14_14.edf', 'chb14_11.edf'),\n",
        "        ('chb14_16.edf', 'chb14_17.edf'),\n",
        "        ('chb14_19.edf', 'chb14_27.edf')]\n",
        "\n",
        "start_times = [(0, 1986),\n",
        "               (0, 3600 + 1372),\n",
        "               (0, 1911),\n",
        "               (0, 1838),\n",
        "               (0, 3239),\n",
        "               (0, 2833)]\n",
        "\n",
        "PREICTAL_INTERVAL_IN_MINS = 20\n",
        "PATIENT_NUM = 14\n",
        "\n",
        "file_list = [\"01\", \"02\", \"03\", \"04\", \"06\", \"07\", \"11\", \"13\", \"14\", \"16\", \"17\", \"19\", \"27\"]\n",
        "\n",
        "download_files(PATIENT_NUM, file_list)\n",
        "\n",
        "interictal_name = f\"patient_{PATIENT_NUM}_inter_interval_{PREICTAL_INTERVAL_IN_MINS}.npy\"\n",
        "preictal_name = f\"patient_{PATIENT_NUM}_pre_interval_{PREICTAL_INTERVAL_IN_MINS}.npy\"\n",
        "process_data(data, start_times, preictal_name, interictal_name)"
      ],
      "execution_count": null,
      "outputs": []
    },
    {
      "cell_type": "markdown",
      "metadata": {
        "id": "if4JC75eBaen"
      },
      "source": [
        "patient 15"
      ]
    },
    {
      "cell_type": "code",
      "metadata": {
        "id": "vmV1PbtYqn8K"
      },
      "source": [
        "data = [('chb15_04.edf', ['chb15_09.edf', 'chb15_10.edf']),\n",
        "        ('chb15_13.edf', ['chb15_14.edf', 'chb15_15.edf']),\n",
        "        ('chb15_16.edf', 'chb15_17.edf'),\n",
        "        ('chb15_32.edf', ['chb15_30.edf', 'chb15_31.edf']),\n",
        "        ('chb15_45.edf', 'chb15_46.edf')]\n",
        "\n",
        "start_times = [(0, 3600 + 1082),\n",
        "               (0, 3600 + 1591),\n",
        "               (0, 1925),\n",
        "               (0, 3600 + 1751),\n",
        "               (0, 3322)]\n",
        "\n",
        "PREICTAL_INTERVAL_IN_MINS = 30\n",
        "PATIENT_NUM = 15\n",
        "\n",
        "file_list = [4, 9, 10, 13, 14, 15, 16, 17, 30, 31, 32, 45, 46]\n",
        "\n",
        "download_files(PATIENT_NUM, file_list)\n",
        "\n",
        "interictal_name = f\"patient_{PATIENT_NUM}_inter_interval_{PREICTAL_INTERVAL_IN_MINS}.npy\"\n",
        "preictal_name = f\"patient_{PATIENT_NUM}_pre_interval_{PREICTAL_INTERVAL_IN_MINS}.npy\"\n",
        "process_data(data, start_times, preictal_name, interictal_name)"
      ],
      "execution_count": null,
      "outputs": []
    },
    {
      "cell_type": "markdown",
      "metadata": {
        "id": "j-Nwi4h7YhJS"
      },
      "source": [
        "patient 16"
      ]
    },
    {
      "cell_type": "code",
      "metadata": {
        "id": "exXVjcE8Yinl"
      },
      "source": [
        "data = [('chb16_09.edf', 'chb16_10.edf'),\n",
        "        ('chb16_04.edf', ['chb16_10.edf', 'chb16_11.edf']),\n",
        "        ('chb16_09.edf', 'chb16_14.edf'),\n",
        "        ('chb16_13.edf', ['chb16_15.edf', 'chb16_16.edf']),\n",
        "        ('chb16_19.edf', ['chb16_13.edf', 'chb16_17.edf'])]\n",
        "\n",
        "start_times = [(0, 2290),\n",
        "               (0, 3600 + 1120),\n",
        "               (0, 1854),\n",
        "               (0, 3600 + 1214),\n",
        "               (0, 3600 + 227)]\n",
        "\n",
        "PREICTAL_INTERVAL_IN_MINS = 20\n",
        "PATIENT_NUM = 16\n",
        "\n",
        "file_list = [4, 9, 10, 11, 13, 14, 15, 16, 17, 19]\n",
        "\n",
        "download_files(PATIENT_NUM, file_list)\n",
        "\n",
        "interictal_name = f\"patient_{PATIENT_NUM}_inter_interval_{PREICTAL_INTERVAL_IN_MINS}.npy\"\n",
        "preictal_name = f\"patient_{PATIENT_NUM}_pre_interval_{PREICTAL_INTERVAL_IN_MINS}.npy\"\n",
        "process_data(data, start_times, preictal_name, interictal_name)"
      ],
      "execution_count": null,
      "outputs": []
    },
    {
      "cell_type": "markdown",
      "metadata": {
        "id": "voAG86bJdvX9"
      },
      "source": [
        "patient 17"
      ]
    },
    {
      "cell_type": "code",
      "metadata": {
        "id": "D4P5lCGeZmDk"
      },
      "source": [
        "!wget https://physionet.org/static/published-projects/chbmit/1.0.0/chb17/chb17b_63.edf"
      ],
      "execution_count": null,
      "outputs": []
    },
    {
      "cell_type": "code",
      "metadata": {
        "id": "xOCdlMrNdu_t"
      },
      "source": [
        "data = [('chb17a_05.edf', 'chb17a_03.edf'),\n",
        "        ('chb17a_06.edf', 'chb17a_04.edf'),\n",
        "        ('chb17c_13.edf', 'chb17b_63.edf')]\n",
        "\n",
        "start_times = [(0, 2282),\n",
        "               (0, 3025),\n",
        "               (0, 3136)]\n",
        "\n",
        "PREICTAL_INTERVAL_IN_MINS = 30\n",
        "PATIENT_NUM = 17\n",
        "\n",
        "file_list = [\"03\", \"04\", \"05\", \"06\", \"13\", \"63\"]\n",
        "\n",
        "#download_files(PATIENT_NUM, file_list)\n",
        "\n",
        "interictal_name = f\"patient_{PATIENT_NUM}_inter_interval_{PREICTAL_INTERVAL_IN_MINS}.npy\"\n",
        "preictal_name = f\"patient_{PATIENT_NUM}_pre_interval_{PREICTAL_INTERVAL_IN_MINS}.npy\"\n",
        "process_data(data, start_times, preictal_name, interictal_name)"
      ],
      "execution_count": null,
      "outputs": []
    },
    {
      "cell_type": "markdown",
      "metadata": {
        "id": "sKnWdPqrgffO"
      },
      "source": [
        "patient 18"
      ]
    },
    {
      "cell_type": "code",
      "metadata": {
        "id": "3QQoH5ujghRD"
      },
      "source": [
        "#didnt choose chb18_30.edf, chb18_36.edf as they are small\n",
        "data = [('chb18_05.edf', 'chb18_29.edf'),\n",
        "        ('chb18_16.edf', 'chb18_31.edf'),\n",
        "        ('chb18_26.edf', 'chb18_32.edf'),\n",
        "        ('chb18_34.edf', 'chb18_35.edf')]\n",
        "\n",
        "start_times = [(0, 3477),\n",
        "               (0, 2087),\n",
        "               (0, 1908),\n",
        "               (0, 2196)]\n",
        "\n",
        "PREICTAL_INTERVAL_IN_MINS = 30\n",
        "PATIENT_NUM = 18\n",
        "\n",
        "file_list = [5, 16, 26, 29, 31, 32, 34, 35]\n",
        "\n",
        "download_files(PATIENT_NUM, file_list)\n",
        "\n",
        "interictal_name = f\"patient_{PATIENT_NUM}_inter_interval_{PREICTAL_INTERVAL_IN_MINS}.npy\"\n",
        "preictal_name = f\"patient_{PATIENT_NUM}_pre_interval_{PREICTAL_INTERVAL_IN_MINS}.npy\"\n",
        "process_data(data, start_times, preictal_name, interictal_name)"
      ],
      "execution_count": null,
      "outputs": []
    },
    {
      "cell_type": "markdown",
      "metadata": {
        "id": "V8ML53yIj02d"
      },
      "source": [
        "patient 19"
      ]
    },
    {
      "cell_type": "code",
      "metadata": {
        "id": "VDK6SfUfj2z3"
      },
      "source": [
        "data = [('chb19_01.edf', ['chb19_27.edf', 'chb19_28.edf']),\n",
        "        ('chb19_10.edf', 'chb19_29.edf'),\n",
        "        ('chb19_25.edf', 'chb19_30.edf')]\n",
        "\n",
        "start_times = [(0, 3600 + 299),\n",
        "               (0, 2964),\n",
        "               (0, 3159)]\n",
        "\n",
        "PREICTAL_INTERVAL_IN_MINS = 30\n",
        "PATIENT_NUM = 19\n",
        "\n",
        "file_list = [1, 10, 25, 27, 28, 29, 30]\n",
        "\n",
        "download_files(PATIENT_NUM, file_list)\n",
        "\n",
        "interictal_name = f\"patient_{PATIENT_NUM}_inter_interval_{PREICTAL_INTERVAL_IN_MINS}.npy\"\n",
        "preictal_name = f\"patient_{PATIENT_NUM}_pre_interval_{PREICTAL_INTERVAL_IN_MINS}.npy\"\n",
        "process_data(data, start_times, preictal_name, interictal_name)"
      ],
      "execution_count": null,
      "outputs": []
    },
    {
      "cell_type": "markdown",
      "metadata": {
        "id": "AuPYLmQ_mb80"
      },
      "source": [
        "patient 20"
      ]
    },
    {
      "cell_type": "code",
      "metadata": {
        "id": "u9YUJ6Ytmcc7"
      },
      "source": [
        "data = [('chb20_01.edf', ['chb20_11.edf', 'chb20_12.edf']),\n",
        "        ('chb20_17.edf', ['chb20_12.edf', 'chb20_13.edf']),\n",
        "        ('chb20_59.edf', 'chb20_14.edf'),\n",
        "        ('chb20_21.edf', 'chb20_16.edf'),\n",
        "        ('chb20_27.edf', ['chb20_60.edf', 'chb20_68.edf'])]\n",
        "\n",
        "start_times = [(0, 3600 + 94),\n",
        "               (0, 3600 + 1440),\n",
        "               (0, 1971),\n",
        "               (0, 2226),\n",
        "               (0, 3600 + 1393)]\n",
        "\n",
        "PREICTAL_INTERVAL_IN_MINS = 30\n",
        "PATIENT_NUM = 20\n",
        "\n",
        "file_list = [1, 11, 12, 13, 14, 16, 17, 21, 27, 59, 60, 68]\n",
        "\n",
        "download_files(PATIENT_NUM, file_list)\n",
        "\n",
        "interictal_name = f\"patient_{PATIENT_NUM}_inter_interval_{PREICTAL_INTERVAL_IN_MINS}.npy\"\n",
        "preictal_name = f\"patient_{PATIENT_NUM}_pre_interval_{PREICTAL_INTERVAL_IN_MINS}.npy\"\n",
        "process_data(data, start_times, preictal_name, interictal_name)"
      ],
      "execution_count": null,
      "outputs": []
    },
    {
      "cell_type": "markdown",
      "metadata": {
        "id": "IXsNXf7ODjXM"
      },
      "source": [
        "patient 21"
      ]
    },
    {
      "cell_type": "code",
      "metadata": {
        "id": "_8iYUIArmel1"
      },
      "source": [
        "data = [('chb21_01.edf', ['chb21_18.edf', 'chb21_19.edf']),\n",
        "        ('chb21_14.edf', 'chb21_20.edf'),\n",
        "        ('chb21_25.edf', 'chb21_21.edf'),\n",
        "        ('chb21_33.edf', 'chb21_22.edf')]\n",
        "\n",
        "start_times = [(0, 3600 + 1288),\n",
        "               (0, 2627),\n",
        "               (0, 2003),\n",
        "               (0, 2553)]\n",
        "\n",
        "PREICTAL_INTERVAL_IN_MINS = 30\n",
        "PATIENT_NUM = 21\n",
        "\n",
        "file_list = [1, 14, 18, 19, 20, 21, 22, 25, 33]\n",
        "\n",
        "download_files(PATIENT_NUM, file_list)\n",
        "\n",
        "interictal_name = f\"patient_{PATIENT_NUM}_inter_interval_{PREICTAL_INTERVAL_IN_MINS}.npy\"\n",
        "preictal_name = f\"patient_{PATIENT_NUM}_pre_interval_{PREICTAL_INTERVAL_IN_MINS}.npy\"\n",
        "process_data(data, start_times, preictal_name, interictal_name)"
      ],
      "execution_count": null,
      "outputs": []
    },
    {
      "cell_type": "markdown",
      "metadata": {
        "id": "MU61Tw5-DmKB"
      },
      "source": [
        "patient 22"
      ]
    },
    {
      "cell_type": "code",
      "metadata": {
        "id": "7cXB_iVC-QSd"
      },
      "source": [
        "data = [('chb22_01.edf', 'chb22_20.edf'),\n",
        "        ('chb22_77.edf', 'chb22_25.edf'),\n",
        "        ('chb22_17.edf', ['chb22_30.edf', 'chb22_38.edf'])]\n",
        "\n",
        "start_times = [(0, 3367),\n",
        "               (0, 3139),\n",
        "               (0, 3600 + 1263)]\n",
        "\n",
        "PREICTAL_INTERVAL_IN_MINS = 30\n",
        "PATIENT_NUM = 22\n",
        "\n",
        "file_list = [1, 17, 20, 25, 30, 38, 77]\n",
        "\n",
        "download_files(PATIENT_NUM, file_list)\n",
        "\n",
        "interictal_name = f\"patient_{PATIENT_NUM}_inter_interval_{PREICTAL_INTERVAL_IN_MINS}.npy\"\n",
        "preictal_name = f\"patient_{PATIENT_NUM}_pre_interval_{PREICTAL_INTERVAL_IN_MINS}.npy\"\n",
        "process_data(data, start_times, preictal_name, interictal_name)"
      ],
      "execution_count": null,
      "outputs": []
    },
    {
      "cell_type": "markdown",
      "metadata": {
        "id": "vF5Orvp7Donl"
      },
      "source": [
        "patient 23"
      ]
    },
    {
      "cell_type": "code",
      "metadata": {
        "id": "EIucZzXc_eHH"
      },
      "source": [
        "data = [('chb23_10.edf', 'chb23_06.edf'),\n",
        "        ('chb23_20.edf', ['chb23_07.edf', 'chb23_08.edf']),\n",
        "        ('chb23_16.edf', 'chb23_09.edf'),\n",
        "        ('chb23_17.edf', 'chb23_09.edf'),\n",
        "        ('chb23_19.edf', 'chb23_09.edf')]\n",
        "\n",
        "start_times = [(0, 3962),\n",
        "               (0, 3600 + 325),\n",
        "               (0, 2589),\n",
        "               (0, 6885),\n",
        "               (0, 8505)]\n",
        "\n",
        "PREICTAL_INTERVAL_IN_MINS = 30\n",
        "PATIENT_NUM = 23\n",
        "\n",
        "file_list = [10, 6, 7, 8, 9, 16, 17, 19, 20]\n",
        "\n",
        "download_files(PATIENT_NUM, file_list)\n",
        "\n",
        "interictal_name = f\"patient_{PATIENT_NUM}_inter_interval_{PREICTAL_INTERVAL_IN_MINS}.npy\"\n",
        "preictal_name = f\"patient_{PATIENT_NUM}_pre_interval_{PREICTAL_INTERVAL_IN_MINS}.npy\"\n",
        "process_data(data, start_times, preictal_name, interictal_name)"
      ],
      "execution_count": null,
      "outputs": []
    },
    {
      "cell_type": "markdown",
      "metadata": {
        "id": "83Cr9r9EDrN1"
      },
      "source": [
        "patient 24"
      ]
    },
    {
      "cell_type": "code",
      "metadata": {
        "id": "7I9KPLrBDIh3"
      },
      "source": [
        "#NOT USED\n",
        "PREICTAL_INTERVAL_IN_MINS = 30\n",
        "patient_num = 24\n",
        "\n",
        "data = []\n",
        "\n",
        "start_times = [(0, 3962),\n",
        "               (0, 3600 + 325),\n",
        "               (0, 2589),\n",
        "               (0, 6885),\n",
        "               (0, 8505)]\n",
        "\n",
        "file_num_list = [\"10\", \"06\", \"07\", \"08\", \"09\", \"16\", \"17\", \"19\", \"20\"]\n",
        "\n",
        "download_files(patient_num, file_num_list)\n",
        "\n",
        "interictal_name = f\"patient_{patient_num}_inter_interval_{PREICTAL_INTERVAL_IN_MINS}.npy\"\n",
        "preictal_name = f\"patient_{patient_num}_pre_interval_{PREICTAL_INTERVAL_IN_MINS}.npy\"\n",
        "to_table_2(data, start_times, preictal_name, interictal_name)"
      ],
      "execution_count": null,
      "outputs": []
    },
    {
      "cell_type": "code",
      "metadata": {
        "id": "YUI4Ql__P9Bw"
      },
      "source": [
        ""
      ],
      "execution_count": null,
      "outputs": []
    }
  ]
}